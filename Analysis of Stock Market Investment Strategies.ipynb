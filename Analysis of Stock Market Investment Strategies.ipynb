{
 "cells": [
  {
   "cell_type": "markdown",
   "id": "signed-black",
   "metadata": {},
   "source": [
    "# Analysis of Stock Market Investment Strategies"
   ]
  },
  {
   "cell_type": "markdown",
   "id": "atomic-halloween",
   "metadata": {},
   "source": [
    "Author: Charles Lee\n",
    "\n",
    "This Notebook aims to compare three different investment strategies using historical stock market data.\n",
    "1. Timing the Market (Perfect) - Buying shares when shares are lowest every year\n",
    "2. Take Action (Now) - Buying shares with all their money at the beginning of every year\n",
    "3. Dollar Cost Averaging (Average) - Dividing up the money to buy shares at the beginning of every month\n",
    "\n",
    "We will also take a look at a \"worst-case scenario\"\n",
    "\n",
    "4. Unlucky (Worst) - Saved up all their money and bought all right before the 2008 Stock Market Crash and 2020 COVID-19 Pandemic"
   ]
  },
  {
   "cell_type": "code",
   "execution_count": null,
   "id": "worse-means",
   "metadata": {},
   "outputs": [],
   "source": [
    "import pandas as pd\n",
    "import seaborn as sns\n",
    "import numpy as np\n",
    "import matplotlib.pyplot as plt\n",
    "import datetime\n",
    "import calendar"
   ]
  },
  {
   "cell_type": "markdown",
   "id": "floating-marks",
   "metadata": {},
   "source": [
    "## Case Study of VTI\n",
    "VTI is a highly popular ETF that holds shares from the top companies in America"
   ]
  },
  {
   "cell_type": "code",
   "execution_count": null,
   "id": "cosmetic-manchester",
   "metadata": {},
   "outputs": [],
   "source": [
    "vti = pd.read_csv('VTI.csv')\n",
    "vti"
   ]
  },
  {
   "cell_type": "code",
   "execution_count": null,
   "id": "present-earth",
   "metadata": {
    "scrolled": true
   },
   "outputs": [],
   "source": [
    "vti_div = pd.read_csv('VTI_Dividends.csv')\n",
    "vti_div"
   ]
  },
  {
   "cell_type": "code",
   "execution_count": null,
   "id": "civic-medium",
   "metadata": {},
   "outputs": [],
   "source": [
    "standardize_date = lambda string: datetime.datetime.strptime(string, '%Y-%m-%d')\n",
    "vti['Date'] = vti['Date'].apply(standardize_date)\n",
    "vti_div['Date'] = vti_div['Date'].apply(standardize_date)"
   ]
  },
  {
   "cell_type": "markdown",
   "id": "proved-composite",
   "metadata": {},
   "source": [
    "### Here is a graph of VTI's stock price per day since 2001"
   ]
  },
  {
   "cell_type": "code",
   "execution_count": null,
   "id": "promising-closing",
   "metadata": {},
   "outputs": [],
   "source": [
    "plt.figure(figsize=(16, 6))\n",
    "g = sns.lineplot(x='Date', y='High', data=vti, ci=None)\n",
    "plt.xticks([datetime.datetime(year=x, month=1, day=1) for x in range(2001, 2023)], rotation=45)\n",
    "g.set_xticklabels(list(range(2001, 2023)))\n",
    "g.set_xlabel('Year')\n",
    "g.set_ylabel('Stock Price')\n",
    "g.set_title('VTI High Stock Price Per Day')\n",
    "sns.despine()"
   ]
  },
  {
   "cell_type": "code",
   "execution_count": null,
   "id": "defined-rhythm",
   "metadata": {},
   "outputs": [],
   "source": [
    "class Investor():\n",
    "    def __init__(self, stock):\n",
    "        # Creates portfolio and binds a stock\n",
    "        self.portfolio = pd.DataFrame(columns=['Date', 'Purchase Price'])\n",
    "        #self.portfolio_low = pd.DataFrame(columns=['Date', 'Purchase Price'])\n",
    "        self.salary = 6000\n",
    "        self.cash = 0\n",
    "        self.stock = stock\n",
    "        self.profits = pd.DataFrame(columns=['Date', 'Profits'])\n",
    "        self.first_date = self.stock['Date'][0]\n",
    "        self.last_date = self.stock['Date'][len(vti)-1]\n",
    "        \n",
    "    def income(self):\n",
    "        # Yearly disbursement of money\n",
    "        self.cash += self.salary\n",
    "    \n",
    "    def create_date(self, string):\n",
    "        # Transforms date string to datetime object\n",
    "        if isinstance(string, str):\n",
    "            return standardize_date(string)\n",
    "        else:\n",
    "            return string\n",
    "    \n",
    "    def get_nearest_date(self, date, reverse = False):\n",
    "        # Gets the next closest date of the stock market being open and returns the row of data\n",
    "        date = self.create_date(date)\n",
    "        if reverse:\n",
    "            move = -1\n",
    "        else:\n",
    "            move = 1\n",
    "        # Changes date until found data, unless past first or last date\n",
    "        while len(self.stock[self.stock['Date'] == date]) < 1:\n",
    "            if (move == 1 and date > self.last_date):\n",
    "                # Later than last, return last\n",
    "                date = self.stock['Date'][len(self.stock)-1]\n",
    "                row = self.stock[self.stock['Date'] == date]\n",
    "                return row, date\n",
    "            elif (move == -1 and date < self.first_date):\n",
    "                # Earlier than first, return first\n",
    "                date = self.stock['Date'][0]\n",
    "                row = self.stock[self.stock['Date'] == date]\n",
    "                return row, date\n",
    "            date += datetime.timedelta(days=move)\n",
    "        # Gets row data from found date\n",
    "        row = self.stock[self.stock['Date'] == date]\n",
    "        return row, date\n",
    "    \n",
    "    def get_stock_price(self, date):\n",
    "        date = self.create_date(date)\n",
    "        row, date = self.get_nearest_date(date)\n",
    "        return row['High'].values[0]\n",
    "    \n",
    "    def buy_stock(self, date):\n",
    "        # Buys a stock and return True if successful and False if not\n",
    "        date = self.create_date(date)\n",
    "        row, date = self.get_nearest_date(date)\n",
    "        \n",
    "        # Get stock price\n",
    "        price = row['High'].values[0]\n",
    "        \n",
    "        # Buy if can afford\n",
    "        if self.cash >= price:\n",
    "            self.portfolio = self.portfolio.append(pd.DataFrame([[date, price]], columns=['Date', 'Purchase Price'])).reset_index(drop=True)\n",
    "            self.cash -= price\n",
    "            return True\n",
    "        return False\n",
    "    \n",
    "    def get_invested(self, date=None):\n",
    "        # Returns how much money you've put into the stock market\n",
    "        if date is not None:\n",
    "            date = self.create_date(date)\n",
    "            row, date = self.get_nearest_date(date)\n",
    "            partial = self.portfolio[self.portfolio['Date'] <= date]\n",
    "            return partial.sum()[0]\n",
    "        return self.portfolio.sum()[0]\n",
    "    \n",
    "    def get_value(self, date=None):\n",
    "        # Returns how much the stocks are worth at a given date\n",
    "        if date is not None:\n",
    "            date = self.create_date(date)\n",
    "            row, date = self.get_nearest_date(date)\n",
    "            price = row['High'].values[0]\n",
    "            partial = self.portfolio[self.portfolio['Date'] <= date]\n",
    "            return len(partial) * price\n",
    "        price = self.stock['High'][len(self.stock)-1]\n",
    "        return len(self.portfolio) * price\n",
    "    \n",
    "    def execute_strategy(self):\n",
    "        pass\n",
    "    \n",
    "    def find_profits(self, year):\n",
    "        for i in range(1, 13):\n",
    "            date = datetime.datetime(year=year, month=i, day=calendar.monthrange(year, i)[1])\n",
    "            row, date = self.get_nearest_date(date, reverse=True)\n",
    "            profit = self.get_value(date) - self.get_invested(date)\n",
    "            self.profits = self.profits.append(pd.DataFrame([[date, profit]], columns=['Date', 'Profits']))\n",
    "        self.profits = self.profits.drop_duplicates().reset_index(drop=True)\n",
    "    \n",
    "class Perfect(Investor):\n",
    "    # Buy at the lowest point of every month/year?\n",
    "    pass\n",
    "\n",
    "class Now(Investor):\n",
    "    # Use all money to buy shares at beginning of year\n",
    "    def execute_strategy(self, start, end):\n",
    "        for i in range(start, end+1):\n",
    "            self.income()\n",
    "            date = datetime.datetime(year=i, month=1, day=1)\n",
    "            can_buy = True\n",
    "            while can_buy:\n",
    "                can_buy = self.buy_stock(date)\n",
    "            self.find_profits(i)\n",
    "\n",
    "class Average(Investor):\n",
    "    # Portion out money over year and buy shares at beginning of each month\n",
    "    def execute_strategy(self, start, end):\n",
    "        budget = 0\n",
    "        for i in range(start, end+1):\n",
    "            # Every year\n",
    "            self.income()\n",
    "            for j in range(1, 13):\n",
    "                # Every month\n",
    "                budget += self.salary/12\n",
    "                date = datetime.datetime(year=i, month=j, day=1)\n",
    "                try:\n",
    "                    price = self.get_stock_price(date)\n",
    "                except:\n",
    "                    break\n",
    "                while budget >= price:\n",
    "                    bought = self.buy_stock(date)\n",
    "                    if bought:\n",
    "                        budget -= price\n",
    "            self.find_profits(i)\n",
    "                    \n"
   ]
  },
  {
   "cell_type": "markdown",
   "id": "bridal-japan",
   "metadata": {},
   "source": [
    "## Take Action (Now) Type Investor\n",
    "This investor uses all of their money to buy shares at beginning of year"
   ]
  },
  {
   "cell_type": "code",
   "execution_count": null,
   "id": "sitting-brisbane",
   "metadata": {
    "scrolled": true
   },
   "outputs": [],
   "source": [
    "now = Now(vti)\n",
    "now.execute_strategy(2001, 2021)"
   ]
  },
  {
   "cell_type": "markdown",
   "id": "fixed-efficiency",
   "metadata": {},
   "source": [
    "This is the leftover uninvested cash by the end of strategy execution"
   ]
  },
  {
   "cell_type": "code",
   "execution_count": null,
   "id": "operating-choir",
   "metadata": {
    "scrolled": false
   },
   "outputs": [],
   "source": [
    "now.cash"
   ]
  },
  {
   "cell_type": "markdown",
   "id": "urban-nightlife",
   "metadata": {},
   "source": [
    "This is the investor's portfolio by the end of the strategy execution"
   ]
  },
  {
   "cell_type": "code",
   "execution_count": null,
   "id": "tough-average",
   "metadata": {
    "scrolled": false
   },
   "outputs": [],
   "source": [
    "now.portfolio"
   ]
  },
  {
   "cell_type": "markdown",
   "id": "fixed-outline",
   "metadata": {},
   "source": [
    "This is how much money the investor spent on buying the stocks"
   ]
  },
  {
   "cell_type": "code",
   "execution_count": null,
   "id": "increased-scanner",
   "metadata": {},
   "outputs": [],
   "source": [
    "now.get_invested()"
   ]
  },
  {
   "cell_type": "markdown",
   "id": "occupational-centre",
   "metadata": {},
   "source": [
    "This is how much money the investments are worth if we are to sell at the given date"
   ]
  },
  {
   "cell_type": "code",
   "execution_count": null,
   "id": "acute-furniture",
   "metadata": {
    "scrolled": true
   },
   "outputs": [],
   "source": [
    "date = '2021-1-04'\n",
    "now.get_value(date)"
   ]
  },
  {
   "cell_type": "code",
   "execution_count": null,
   "id": "neither-envelope",
   "metadata": {
    "scrolled": true
   },
   "outputs": [],
   "source": [
    "now.profits"
   ]
  },
  {
   "cell_type": "code",
   "execution_count": null,
   "id": "executive-airport",
   "metadata": {},
   "outputs": [],
   "source": [
    "plt.figure(figsize=(16, 6))\n",
    "g = sns.lineplot(x='Date', y='Profits', data=now.profits)\n",
    "plt.xticks([datetime.datetime(year=x, month=1, day=1) for x in range(2001, 2023)], rotation=45)\n",
    "g.set_xticklabels(list(range(2001, 2023)))\n",
    "g.set_xlabel('Year')\n",
    "g.set_ylabel('Profit')\n",
    "g.set_title('Profits Made Per Month From Investments Using Now strategy')\n",
    "sns.despine()"
   ]
  },
  {
   "cell_type": "markdown",
   "id": "integral-selection",
   "metadata": {},
   "source": [
    "## Dollar Cost Averaging (Average) Type Investor\n",
    "This investor portions out their money over year and buys shares at beginning of each month (Dollar Cost Averaging)"
   ]
  },
  {
   "cell_type": "code",
   "execution_count": null,
   "id": "universal-lounge",
   "metadata": {
    "scrolled": false
   },
   "outputs": [],
   "source": [
    "avg = Average(vti)\n",
    "avg.execute_strategy(2001, 2021)"
   ]
  },
  {
   "cell_type": "code",
   "execution_count": null,
   "id": "closing-surname",
   "metadata": {
    "scrolled": false
   },
   "outputs": [],
   "source": [
    "# The leftover uninvested cash by the end of strategy execution\n",
    "avg.cash"
   ]
  },
  {
   "cell_type": "markdown",
   "id": "descending-medicine",
   "metadata": {},
   "source": [
    "This is the investor's portfolio by the end of the strategy execution"
   ]
  },
  {
   "cell_type": "code",
   "execution_count": null,
   "id": "indirect-roller",
   "metadata": {
    "scrolled": false
   },
   "outputs": [],
   "source": [
    "avg.portfolio"
   ]
  },
  {
   "cell_type": "markdown",
   "id": "regular-slave",
   "metadata": {},
   "source": [
    "This is how much money the investor spent on buying the stocks"
   ]
  },
  {
   "cell_type": "code",
   "execution_count": null,
   "id": "signed-hobby",
   "metadata": {},
   "outputs": [],
   "source": [
    "avg.get_invested()"
   ]
  },
  {
   "cell_type": "markdown",
   "id": "successful-surfing",
   "metadata": {},
   "source": [
    "This is how much money the investments are worth if we are to sell at the given date"
   ]
  },
  {
   "cell_type": "code",
   "execution_count": null,
   "id": "atlantic-theory",
   "metadata": {
    "scrolled": true
   },
   "outputs": [],
   "source": [
    "date = '2021-1-04'\n",
    "avg.get_value(date)"
   ]
  },
  {
   "cell_type": "code",
   "execution_count": null,
   "id": "automotive-stereo",
   "metadata": {},
   "outputs": [],
   "source": [
    "avg.profits"
   ]
  },
  {
   "cell_type": "code",
   "execution_count": null,
   "id": "congressional-cartridge",
   "metadata": {},
   "outputs": [],
   "source": [
    "plt.figure(figsize=(16, 6))\n",
    "g = sns.lineplot(x='Date', y='Profits', data=avg.profits)\n",
    "plt.xticks([datetime.datetime(year=x, month=1, day=1) for x in range(2001, 2023)], rotation=45)\n",
    "g.set_xticklabels(list(range(2001, 2023)))\n",
    "g.set_xlabel('Year')\n",
    "g.set_ylabel('Profit')\n",
    "g.set_title('Profits Made Per Month From Investments')\n",
    "sns.despine()"
   ]
  },
  {
   "cell_type": "markdown",
   "id": "described-sigma",
   "metadata": {},
   "source": [
    "## Putting it all together"
   ]
  },
  {
   "cell_type": "code",
   "execution_count": null,
   "id": "biblical-zimbabwe",
   "metadata": {},
   "outputs": [],
   "source": [
    "g_now = now.profits\n",
    "g_avg = avg.profits\n",
    "\n",
    "g_now['Strategy'] = 'Now'\n",
    "g_avg['Strategy'] = 'Average'"
   ]
  },
  {
   "cell_type": "code",
   "execution_count": null,
   "id": "embedded-albania",
   "metadata": {},
   "outputs": [],
   "source": [
    "g_all = g_now.append(g_avg)"
   ]
  },
  {
   "cell_type": "code",
   "execution_count": null,
   "id": "female-string",
   "metadata": {},
   "outputs": [],
   "source": [
    "sns.lineplot(data=g_all, x='Date', y='Profits', hue='Strategy')"
   ]
  },
  {
   "cell_type": "code",
   "execution_count": null,
   "id": "stylish-transfer",
   "metadata": {},
   "outputs": [],
   "source": [
    "date = g_all.sort_values('Date')['Date'][len(g_all)/2-1].values[0]\n",
    "sns.catplot(x='Strategy', y='Profits', data=g_all[g_all['Date'] == date], kind='bar')"
   ]
  },
  {
   "cell_type": "markdown",
   "id": "medical-reminder",
   "metadata": {},
   "source": [
    "## Unit Tests"
   ]
  },
  {
   "cell_type": "code",
   "execution_count": null,
   "id": "logical-salem",
   "metadata": {},
   "outputs": [],
   "source": [
    "test = Investor(vti)\n",
    "assert test.cash == 0\n",
    "test.income()\n",
    "assert test.cash == test.salary"
   ]
  },
  {
   "cell_type": "code",
   "execution_count": null,
   "id": "blank-thanksgiving",
   "metadata": {},
   "outputs": [],
   "source": [
    "assert test.create_date('2001-05-31') == datetime.datetime(year=2001, month=5, day=31)"
   ]
  },
  {
   "cell_type": "code",
   "execution_count": null,
   "id": "choice-company",
   "metadata": {
    "scrolled": true
   },
   "outputs": [],
   "source": [
    "# Test before first forward\n",
    "test_row, test_date = test.get_nearest_date('2001-06-13')\n",
    "assert test_date == test.create_date('2001-06-15')\n",
    "# Test after last forward\n",
    "test_row, test_date = test.get_nearest_date('2021-02-17')\n",
    "assert test_date == test.create_date('2021-02-16')\n",
    "# Test before first reverse\n",
    "test_row, test_date = test.get_nearest_date('2001-06-13', True)\n",
    "assert test_date == test.create_date('2001-06-15')\n",
    "# Test after last reverse\n",
    "test_row, test_date = test.get_nearest_date('2021-02-17', True)\n",
    "assert test_date == test.create_date('2021-02-16')\n",
    "# Test forward\n",
    "test_row, test_date = test.get_nearest_date('2021-02-13')\n",
    "assert test_date == test.create_date('2021-02-16')\n",
    "# Test reverse\n",
    "test_row, test_date = test.get_nearest_date('2001-06-17', True)\n",
    "assert test_date == test.create_date('2001-06-15')"
   ]
  },
  {
   "cell_type": "code",
   "execution_count": null,
   "id": "atlantic-expression",
   "metadata": {},
   "outputs": [],
   "source": [
    "assert test.get_stock_price('2001-06-15') == 56.005001\n",
    "assert test.get_stock_price('2001-06-14') == 56.005001\n",
    "assert test.get_stock_price('2001-06-17') == 55.915001"
   ]
  },
  {
   "cell_type": "code",
   "execution_count": null,
   "id": "persistent-three",
   "metadata": {},
   "outputs": [],
   "source": [
    "# Not enough money\n",
    "test.cash = 0\n",
    "assert not test.buy_stock('2001-06-15')\n",
    "# Enough money\n",
    "test.cash = 200\n",
    "assert test.buy_stock('2001-06-15')"
   ]
  },
  {
   "cell_type": "code",
   "execution_count": null,
   "id": "refined-young",
   "metadata": {},
   "outputs": [],
   "source": [
    "test = Investor(vti)\n",
    "test.cash = 9999999\n",
    "for i in range(100):\n",
    "    test.buy_stock('2001-06-15')\n",
    "    test.buy_stock('2021-02-16')\n",
    "\n",
    "# All\n",
    "np.testing.assert_almost_equal(test.get_invested(), 56.005001*100 + 208.389999*100)\n",
    "# Before specific date\n",
    "np.testing.assert_almost_equal(test.get_invested('2002-01-01'), 56.005001*100)"
   ]
  },
  {
   "cell_type": "code",
   "execution_count": null,
   "id": "perceived-secondary",
   "metadata": {
    "scrolled": true
   },
   "outputs": [],
   "source": [
    "test = Investor(vti)\n",
    "test.cash = 9999999\n",
    "for i in range(100):\n",
    "    test.buy_stock('2001-06-15')\n",
    "    test.buy_stock('2021-02-16')\n",
    "\n",
    "# All\n",
    "np.testing.assert_almost_equal(test.get_value(), 200*208.389999)\n",
    "# Before specific date\n",
    "np.testing.assert_almost_equal(test.get_value('2001-06-21'), 56.724998*100)"
   ]
  },
  {
   "cell_type": "code",
   "execution_count": null,
   "id": "forty-catholic",
   "metadata": {},
   "outputs": [],
   "source": [
    "test = Investor(vti)\n",
    "test.cash = 9999999\n",
    "for i in range(100):\n",
    "    test.buy_stock('2001-06-15')\n",
    "\n",
    "test.find_profits(2001)\n",
    "np.testing.assert_almost_equal(test.profits[test.profits['Date'] == '2001-06-15']['Profits'].values[0], 0)\n",
    "\n",
    "np.testing.assert_almost_equal(test.profits[test.profits['Date'] == '2001-06-29']['Profits'].values[0], (56.81-56.005)*100)"
   ]
  }
 ],
 "metadata": {
  "kernelspec": {
   "display_name": "Python 3",
   "language": "python",
   "name": "python3"
  },
  "language_info": {
   "codemirror_mode": {
    "name": "ipython",
    "version": 3
   },
   "file_extension": ".py",
   "mimetype": "text/x-python",
   "name": "python",
   "nbconvert_exporter": "python",
   "pygments_lexer": "ipython3",
   "version": "3.9.1"
  }
 },
 "nbformat": 4,
 "nbformat_minor": 5
}
