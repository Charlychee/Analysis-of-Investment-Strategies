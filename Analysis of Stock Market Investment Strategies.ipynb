{
 "cells": [
  {
   "cell_type": "markdown",
   "id": "isolated-disease",
   "metadata": {},
   "source": [
    "# Analysis of Stock Market Investment Strategies"
   ]
  },
  {
   "cell_type": "markdown",
   "id": "increased-dylan",
   "metadata": {},
   "source": [
    "Author: Charles Lee\n",
    "\n",
    "This Notebook aims to compare three different investment strategies using historical stock market data.\n",
    "1. **Timing the Market (Ideal)** - Buying shares when shares are lowest every year\n",
    "2. **Take Action (Now)** - Buying shares with all their money at the beginning of every year\n",
    "3. **Dollar Cost Averaging (Average)** - Dividing up the money to buy shares at the beginning of every month\n",
    "\n",
    "We will also see how these strategies fare against a random investor as our base scenario.\n",
    "\n",
    "4. **Newbie (Random)** - Buys random amounts of stocks at random times.\n",
    "\n",
    "Finally, we will take a look at \"worst- and best-case scenarios\" of investments.\n",
    "\n",
    "5. **Unlucky (Worst)** - Saved up all their money and bought all right **before** the 2008 Stock Market Crash and 2020 COVID-19 Pandemic\n",
    "6. **Omniscient (Perfect)** - Saved up all their money and bought all right **after** the 2008 Stock Market Crash and 2020 COVID-19 Pandemic\n",
    "\n",
    "In all of these investment strategies, we are assuming that our investors will hold onto their stocks and not sell."
   ]
  },
  {
   "cell_type": "code",
   "execution_count": 1,
   "id": "connected-recovery",
   "metadata": {},
   "outputs": [],
   "source": [
    "import pandas as pd\n",
    "import seaborn as sns\n",
    "import numpy as np\n",
    "import matplotlib.pyplot as plt\n",
    "import datetime\n",
    "import calendar\n",
    "\n",
    "sns.set_style('darkgrid')\n",
    "\n",
    "import warnings\n",
    "warnings.filterwarnings('ignore')"
   ]
  },
  {
   "cell_type": "markdown",
   "id": "increasing-shape",
   "metadata": {},
   "source": [
    "## Case Study of VTI\n",
    "VTI is a highly popular ETF that holds shares from the top companies in America. Many people choose this as their choice of investment, so we will take a look at this in particular."
   ]
  },
  {
   "cell_type": "code",
   "execution_count": 2,
   "id": "incoming-haven",
   "metadata": {},
   "outputs": [
    {
     "data": {
      "text/html": [
       "<div>\n",
       "<style scoped>\n",
       "    .dataframe tbody tr th:only-of-type {\n",
       "        vertical-align: middle;\n",
       "    }\n",
       "\n",
       "    .dataframe tbody tr th {\n",
       "        vertical-align: top;\n",
       "    }\n",
       "\n",
       "    .dataframe thead th {\n",
       "        text-align: right;\n",
       "    }\n",
       "</style>\n",
       "<table border=\"1\" class=\"dataframe\">\n",
       "  <thead>\n",
       "    <tr style=\"text-align: right;\">\n",
       "      <th></th>\n",
       "      <th>Date</th>\n",
       "      <th>Open</th>\n",
       "      <th>High</th>\n",
       "      <th>Low</th>\n",
       "      <th>Close</th>\n",
       "      <th>Adj Close</th>\n",
       "      <th>Volume</th>\n",
       "    </tr>\n",
       "  </thead>\n",
       "  <tbody>\n",
       "    <tr>\n",
       "      <th>0</th>\n",
       "      <td>2001-06-15</td>\n",
       "      <td>55.424999</td>\n",
       "      <td>56.005001</td>\n",
       "      <td>55.174999</td>\n",
       "      <td>55.665001</td>\n",
       "      <td>38.659378</td>\n",
       "      <td>1067400</td>\n",
       "    </tr>\n",
       "    <tr>\n",
       "      <th>1</th>\n",
       "      <td>2001-06-18</td>\n",
       "      <td>55.814999</td>\n",
       "      <td>55.915001</td>\n",
       "      <td>55.310001</td>\n",
       "      <td>55.310001</td>\n",
       "      <td>38.412834</td>\n",
       "      <td>282600</td>\n",
       "    </tr>\n",
       "    <tr>\n",
       "      <th>2</th>\n",
       "      <td>2001-06-19</td>\n",
       "      <td>56.150002</td>\n",
       "      <td>56.165001</td>\n",
       "      <td>55.235001</td>\n",
       "      <td>55.465000</td>\n",
       "      <td>38.520493</td>\n",
       "      <td>1777600</td>\n",
       "    </tr>\n",
       "    <tr>\n",
       "      <th>3</th>\n",
       "      <td>2001-06-20</td>\n",
       "      <td>55.375000</td>\n",
       "      <td>56.075001</td>\n",
       "      <td>55.375000</td>\n",
       "      <td>56.049999</td>\n",
       "      <td>38.926777</td>\n",
       "      <td>476000</td>\n",
       "    </tr>\n",
       "    <tr>\n",
       "      <th>4</th>\n",
       "      <td>2001-06-21</td>\n",
       "      <td>56.000000</td>\n",
       "      <td>56.724998</td>\n",
       "      <td>55.875000</td>\n",
       "      <td>56.500000</td>\n",
       "      <td>39.239285</td>\n",
       "      <td>240400</td>\n",
       "    </tr>\n",
       "    <tr>\n",
       "      <th>...</th>\n",
       "      <td>...</td>\n",
       "      <td>...</td>\n",
       "      <td>...</td>\n",
       "      <td>...</td>\n",
       "      <td>...</td>\n",
       "      <td>...</td>\n",
       "      <td>...</td>\n",
       "    </tr>\n",
       "    <tr>\n",
       "      <th>4943</th>\n",
       "      <td>2021-02-09</td>\n",
       "      <td>205.600006</td>\n",
       "      <td>206.449997</td>\n",
       "      <td>205.250000</td>\n",
       "      <td>206.020004</td>\n",
       "      <td>206.020004</td>\n",
       "      <td>3384800</td>\n",
       "    </tr>\n",
       "    <tr>\n",
       "      <th>4944</th>\n",
       "      <td>2021-02-10</td>\n",
       "      <td>207.070007</td>\n",
       "      <td>207.220001</td>\n",
       "      <td>204.449997</td>\n",
       "      <td>205.929993</td>\n",
       "      <td>205.929993</td>\n",
       "      <td>3682400</td>\n",
       "    </tr>\n",
       "    <tr>\n",
       "      <th>4945</th>\n",
       "      <td>2021-02-11</td>\n",
       "      <td>206.699997</td>\n",
       "      <td>206.940002</td>\n",
       "      <td>204.820007</td>\n",
       "      <td>206.419998</td>\n",
       "      <td>206.419998</td>\n",
       "      <td>2630000</td>\n",
       "    </tr>\n",
       "    <tr>\n",
       "      <th>4946</th>\n",
       "      <td>2021-02-12</td>\n",
       "      <td>205.889999</td>\n",
       "      <td>207.509995</td>\n",
       "      <td>205.800003</td>\n",
       "      <td>207.490005</td>\n",
       "      <td>207.490005</td>\n",
       "      <td>2415000</td>\n",
       "    </tr>\n",
       "    <tr>\n",
       "      <th>4947</th>\n",
       "      <td>2021-02-16</td>\n",
       "      <td>208.309998</td>\n",
       "      <td>208.389999</td>\n",
       "      <td>206.520004</td>\n",
       "      <td>207.119995</td>\n",
       "      <td>207.119995</td>\n",
       "      <td>4954900</td>\n",
       "    </tr>\n",
       "  </tbody>\n",
       "</table>\n",
       "<p>4948 rows × 7 columns</p>\n",
       "</div>"
      ],
      "text/plain": [
       "            Date        Open        High         Low       Close   Adj Close  \\\n",
       "0     2001-06-15   55.424999   56.005001   55.174999   55.665001   38.659378   \n",
       "1     2001-06-18   55.814999   55.915001   55.310001   55.310001   38.412834   \n",
       "2     2001-06-19   56.150002   56.165001   55.235001   55.465000   38.520493   \n",
       "3     2001-06-20   55.375000   56.075001   55.375000   56.049999   38.926777   \n",
       "4     2001-06-21   56.000000   56.724998   55.875000   56.500000   39.239285   \n",
       "...          ...         ...         ...         ...         ...         ...   \n",
       "4943  2021-02-09  205.600006  206.449997  205.250000  206.020004  206.020004   \n",
       "4944  2021-02-10  207.070007  207.220001  204.449997  205.929993  205.929993   \n",
       "4945  2021-02-11  206.699997  206.940002  204.820007  206.419998  206.419998   \n",
       "4946  2021-02-12  205.889999  207.509995  205.800003  207.490005  207.490005   \n",
       "4947  2021-02-16  208.309998  208.389999  206.520004  207.119995  207.119995   \n",
       "\n",
       "       Volume  \n",
       "0     1067400  \n",
       "1      282600  \n",
       "2     1777600  \n",
       "3      476000  \n",
       "4      240400  \n",
       "...       ...  \n",
       "4943  3384800  \n",
       "4944  3682400  \n",
       "4945  2630000  \n",
       "4946  2415000  \n",
       "4947  4954900  \n",
       "\n",
       "[4948 rows x 7 columns]"
      ]
     },
     "execution_count": 2,
     "metadata": {},
     "output_type": "execute_result"
    }
   ],
   "source": [
    "vti = pd.read_csv('vti.csv').sort_values('Date').reset_index(drop=True)\n",
    "vti"
   ]
  },
  {
   "cell_type": "code",
   "execution_count": 3,
   "id": "serial-basin",
   "metadata": {
    "scrolled": true
   },
   "outputs": [
    {
     "data": {
      "text/html": [
       "<div>\n",
       "<style scoped>\n",
       "    .dataframe tbody tr th:only-of-type {\n",
       "        vertical-align: middle;\n",
       "    }\n",
       "\n",
       "    .dataframe tbody tr th {\n",
       "        vertical-align: top;\n",
       "    }\n",
       "\n",
       "    .dataframe thead th {\n",
       "        text-align: right;\n",
       "    }\n",
       "</style>\n",
       "<table border=\"1\" class=\"dataframe\">\n",
       "  <thead>\n",
       "    <tr style=\"text-align: right;\">\n",
       "      <th></th>\n",
       "      <th>Date</th>\n",
       "      <th>Dividends</th>\n",
       "    </tr>\n",
       "  </thead>\n",
       "  <tbody>\n",
       "    <tr>\n",
       "      <th>0</th>\n",
       "      <td>2001-06-25</td>\n",
       "      <td>0.1400</td>\n",
       "    </tr>\n",
       "    <tr>\n",
       "      <th>1</th>\n",
       "      <td>2001-09-24</td>\n",
       "      <td>0.1575</td>\n",
       "    </tr>\n",
       "    <tr>\n",
       "      <th>2</th>\n",
       "      <td>2001-12-24</td>\n",
       "      <td>0.1965</td>\n",
       "    </tr>\n",
       "    <tr>\n",
       "      <th>3</th>\n",
       "      <td>2002-03-25</td>\n",
       "      <td>0.1500</td>\n",
       "    </tr>\n",
       "    <tr>\n",
       "      <th>4</th>\n",
       "      <td>2002-06-24</td>\n",
       "      <td>0.1300</td>\n",
       "    </tr>\n",
       "    <tr>\n",
       "      <th>...</th>\n",
       "      <td>...</td>\n",
       "      <td>...</td>\n",
       "    </tr>\n",
       "    <tr>\n",
       "      <th>74</th>\n",
       "      <td>2019-12-24</td>\n",
       "      <td>0.8860</td>\n",
       "    </tr>\n",
       "    <tr>\n",
       "      <th>75</th>\n",
       "      <td>2020-03-26</td>\n",
       "      <td>0.6140</td>\n",
       "    </tr>\n",
       "    <tr>\n",
       "      <th>76</th>\n",
       "      <td>2020-06-25</td>\n",
       "      <td>0.7000</td>\n",
       "    </tr>\n",
       "    <tr>\n",
       "      <th>77</th>\n",
       "      <td>2020-09-25</td>\n",
       "      <td>0.6740</td>\n",
       "    </tr>\n",
       "    <tr>\n",
       "      <th>78</th>\n",
       "      <td>2020-12-24</td>\n",
       "      <td>0.7820</td>\n",
       "    </tr>\n",
       "  </tbody>\n",
       "</table>\n",
       "<p>79 rows × 2 columns</p>\n",
       "</div>"
      ],
      "text/plain": [
       "          Date  Dividends\n",
       "0   2001-06-25     0.1400\n",
       "1   2001-09-24     0.1575\n",
       "2   2001-12-24     0.1965\n",
       "3   2002-03-25     0.1500\n",
       "4   2002-06-24     0.1300\n",
       "..         ...        ...\n",
       "74  2019-12-24     0.8860\n",
       "75  2020-03-26     0.6140\n",
       "76  2020-06-25     0.7000\n",
       "77  2020-09-25     0.6740\n",
       "78  2020-12-24     0.7820\n",
       "\n",
       "[79 rows x 2 columns]"
      ]
     },
     "execution_count": 3,
     "metadata": {},
     "output_type": "execute_result"
    }
   ],
   "source": [
    "vti_div = pd.read_csv('vti_Dividends.csv').sort_values('Date').reset_index(drop=True)\n",
    "vti_div"
   ]
  },
  {
   "cell_type": "code",
   "execution_count": 4,
   "id": "confident-catholic",
   "metadata": {},
   "outputs": [],
   "source": [
    "# Converting strings to datetime objects to make easier to work with\n",
    "standardize_date = lambda string: datetime.datetime.strptime(string, '%Y-%m-%d')\n",
    "vti['Date'] = vti['Date'].apply(standardize_date)\n",
    "vti_div['Date'] = vti_div['Date'].apply(standardize_date)"
   ]
  },
  {
   "cell_type": "markdown",
   "id": "becoming-scottish",
   "metadata": {},
   "source": [
    "### Here is a graph of VTI's stock price per day since 2001"
   ]
  },
  {
   "cell_type": "code",
   "execution_count": 5,
   "id": "sublime-collapse",
   "metadata": {},
   "outputs": [
    {
     "data": {
      "image/png": "[encoded data removed]",
      "text/plain": [
       "<Figure size 1152x432 with 1 Axes>"
      ]
     },
     "metadata": {},
     "output_type": "display_data"
    }
   ],
   "source": [
    "plt.figure(figsize=(16, 6))\n",
    "g = sns.lineplot(x='Date', y='High', data=vti, ci=None)\n",
    "plt.xticks([datetime.datetime(year=x, month=1, day=1) for x in range(2001, 2023)], rotation=45)\n",
    "g.set_xticklabels(list(range(2001, 2023)))\n",
    "g.set_xlabel('Year')\n",
    "g.set_ylabel('Stock Price')\n",
    "g.set_title('VTI High Stock Price Per Day');"
   ]
  },
  {
   "cell_type": "markdown",
   "id": "sporting-operations",
   "metadata": {},
   "source": [
    "### We define our Investors where each subclass executes their own strategy"
   ]
  },
  {
   "cell_type": "code",
   "execution_count": 6,
   "id": "cloudy-routine",
   "metadata": {
    "tags": []
   },
   "outputs": [],
   "source": [
    "class Investor():\n",
    "    def __init__(self, stock, stock_div):\n",
    "        # Creates portfolio and binds a stock\n",
    "        self.portfolio = pd.DataFrame(columns=['Date', 'Purchase Price'])\n",
    "        self.salary = 6000\n",
    "        self.cash = 0\n",
    "        self.stock = stock\n",
    "        self.stock_div = stock_div\n",
    "        self.profits = pd.DataFrame(columns=['Date', 'Profits'])\n",
    "        self.first_date = self.stock['Date'][0]\n",
    "        self.last_date = self.stock['Date'][len(vti)-1]\n",
    "        self.dividends = pd.DataFrame(columns=['Date', 'Dividend Disbursement', 'Total Dividends'])\n",
    "        \n",
    "    def income(self):\n",
    "        # Yearly disbursement of money\n",
    "        self.cash += self.salary\n",
    "    \n",
    "    def create_date(self, string):\n",
    "        # Transforms date string to datetime object\n",
    "        if isinstance(string, str):\n",
    "            return standardize_date(string)\n",
    "        else:\n",
    "            return string\n",
    "    \n",
    "    def get_nearest_date(self, date, reverse = False):\n",
    "        # Gets the next closest date of the stock market being open and returns the row of data\n",
    "        # Reverse false if we want the nearest next date. Reverse true if we want the nearest previous date\n",
    "        date = self.create_date(date)\n",
    "        if reverse:\n",
    "            move = -1\n",
    "        else:\n",
    "            move = 1\n",
    "        # Changes date until found market data, unless passed the first or last date\n",
    "        while len(self.stock[self.stock['Date'] == date]) < 1:\n",
    "            if (move == 1 and date > self.last_date):\n",
    "                # Later than last, return last\n",
    "                date = self.stock['Date'][len(self.stock)-1]\n",
    "                row = self.stock[self.stock['Date'] == date]\n",
    "                return row, date\n",
    "            elif (move == -1 and date < self.first_date):\n",
    "                # Earlier than first, return first\n",
    "                date = self.stock['Date'][0]\n",
    "                row = self.stock[self.stock['Date'] == date]\n",
    "                return row, date\n",
    "            date += datetime.timedelta(days=move)\n",
    "        # Gets row data from found date\n",
    "        row = self.stock[self.stock['Date'] == date]\n",
    "        return row, date\n",
    "    \n",
    "    def get_stock_price(self, date):\n",
    "        # Gets the price of a stock at the next nearest market opening date\n",
    "        date = self.create_date(date)\n",
    "        row, date = self.get_nearest_date(date)\n",
    "        return row['High'].values[0]\n",
    "    \n",
    "    def buy_stock(self, date):\n",
    "        # Buys a stock and return True if successful and False if not\n",
    "        date = self.create_date(date)\n",
    "        row, date = self.get_nearest_date(date)\n",
    "        \n",
    "        # Get stock price\n",
    "        price = row['High'].values[0]\n",
    "        \n",
    "        # Buy if can afford\n",
    "        if self.cash >= price:\n",
    "            self.portfolio = self.portfolio.append(pd.DataFrame([[date, price]], columns=['Date', 'Purchase Price'])).reset_index(drop=True)\n",
    "            self.cash -= price\n",
    "            return True\n",
    "        return False\n",
    "    \n",
    "    def get_invested(self, date=None):\n",
    "        # Returns how much money you've put into the stock market\n",
    "        if date is not None:\n",
    "            date = self.create_date(date)\n",
    "            row, date = self.get_nearest_date(date)\n",
    "            partial = self.portfolio[self.portfolio['Date'] <= date]\n",
    "            return partial.sum()[0]\n",
    "        return round(self.portfolio.sum()[0], 2)\n",
    "    \n",
    "    def get_value(self, date=None):\n",
    "        # Returns how much the stocks are worth at a given date\n",
    "        if date is not None:\n",
    "            date = self.create_date(date)\n",
    "            row, date = self.get_nearest_date(date) \n",
    "            price = row['High'].values[0]\n",
    "            partial = self.portfolio[self.portfolio['Date'] <= date]\n",
    "            return round(len(partial) * price, 2)\n",
    "        price = self.stock['High'][len(self.stock)-1]\n",
    "        total_price = len(self.portfolio) * price\n",
    "        return round(total_price, 2)\n",
    "    \n",
    "    def find_dividends(self, date=None):\n",
    "        # Get portfolio up to date\n",
    "        div_prof = 0\n",
    "        for index, row in self.stock_div.iterrows():\n",
    "            if date is not None and row['Date'] > date:\n",
    "                break\n",
    "            div = len(self.portfolio[self.portfolio['Date'] <= row['Date']])*row['Dividends']\n",
    "            div_prof += div\n",
    "            self.dividends = self.dividends.append(pd.DataFrame([[row['Date'], div, div_prof]], columns=['Date', 'Dividend Disbursement', 'Total Dividends']))\n",
    "        self.dividends = self.dividends.reset_index(drop=True)\n",
    "    \n",
    "    def find_profits(self, year):\n",
    "        # Finds the profits for each month of a given year and adds it to the profits DataFrame\n",
    "        for i in range(1, 13):\n",
    "            date = datetime.datetime(year=year, month=i, day=calendar.monthrange(year, i)[1])\n",
    "            row, date = self.get_nearest_date(date, reverse=True)\n",
    "            profit = self.get_value(date) - self.get_invested(date)\n",
    "            self.profits = self.profits.append(pd.DataFrame([[date, profit]], columns=['Date', 'Profits']))\n",
    "        self.profits = self.profits.drop_duplicates().reset_index(drop=True)\n",
    "    \n",
    "    def normalize_data(self):\n",
    "        # Rounds all price data to 4 decimal places\n",
    "        four = lambda x: round(x, 4)\n",
    "        self.portfolio['Purchase Price'] = self.portfolio['Purchase Price'].apply(four)\n",
    "        self.profits['Profits'] = self.profits['Profits'].apply(four)\n",
    "        self.dividends['Dividend Disbursement'] = self.dividends['Dividend Disbursement'].apply(four)\n",
    "        self.dividends['Total Dividends'] = self.dividends['Total Dividends'].apply(four)\n",
    "    \n",
    "    def get_lowest(self, year):\n",
    "        # Finds the date on a given year where the stock was at its lowest price\n",
    "        stock_year = self.stock[self.stock['Date'].dt.year == year]\n",
    "        return stock_year[stock_year['High'] == stock_year['High'].min()]\n",
    "    \n",
    "    def execute_strategy(self):\n",
    "        # To be implemented by child classes\n",
    "        raise NotImplementedError()\n",
    "\n",
    "class Ideal(Investor):\n",
    "    # Buy at the lowest point of every year\n",
    "    def execute_strategy(self, start, end):\n",
    "        for i in range(start, end+1):\n",
    "            self.income()\n",
    "            lowest = self.get_lowest(i)\n",
    "            date = lowest['Date'].values[0]\n",
    "            can_buy = True\n",
    "            while can_buy:\n",
    "                can_buy = self.buy_stock(date)\n",
    "            self.find_profits(i)\n",
    "        self.find_dividends()\n",
    "        self.normalize_data()\n",
    "\n",
    "class Now(Investor):\n",
    "    # Use all money to buy shares at beginning of year\n",
    "    def execute_strategy(self, start, end):\n",
    "        for i in range(start, end+1):\n",
    "            self.income()\n",
    "            date = datetime.datetime(year=i, month=1, day=1)\n",
    "            can_buy = True\n",
    "            while can_buy:\n",
    "                can_buy = self.buy_stock(date)\n",
    "            self.find_profits(i)\n",
    "        self.find_dividends()\n",
    "        self.normalize_data()\n",
    "\n",
    "class Average(Investor):\n",
    "    # Portion out money over year and buy shares at beginning of each month\n",
    "    def execute_strategy(self, start, end):\n",
    "        budget = 0\n",
    "        for i in range(start, end+1):\n",
    "            # Every year\n",
    "            self.income()\n",
    "            for j in range(1, 13):\n",
    "                # Every month\n",
    "                budget += self.salary/12\n",
    "                date = datetime.datetime(year=i, month=j, day=1)\n",
    "                try:\n",
    "                    price = self.get_stock_price(date)\n",
    "                except:\n",
    "                    break\n",
    "                while budget >= price:\n",
    "                    bought = self.buy_stock(date)\n",
    "                    if bought:\n",
    "                        budget -= price\n",
    "            self.find_profits(i)\n",
    "        self.find_dividends()\n",
    "        self.normalize_data()\n",
    "                    \n",
    "class Random(Investor):\n",
    "    # Buys a random number of shares at random times throughout the year\n",
    "    def execute_strategy(self, start, end):\n",
    "        for i in range(start, end+1):\n",
    "            self.income()\n",
    "            can_buy = True\n",
    "            while can_buy:\n",
    "                date = self.get_random_stock(i)['Date'].values[0]\n",
    "                can_buy = self.buy_stock(date)\n",
    "            self.find_profits(i)\n",
    "        self.portfolio = self.portfolio.sort_values('Date').reset_index(drop=True)\n",
    "        self.find_dividends()\n",
    "        self.normalize_data()\n",
    "    \n",
    "    def get_random_stock(self, year):\n",
    "        stock_year = self.stock[self.stock['Date'].dt.year == year]\n",
    "        return stock_year.sample(random_state=7) # Use a random_state constant seed to maintain reproducibility"
   ]
  },
  {
   "cell_type": "markdown",
   "id": "north-junior",
   "metadata": {},
   "source": [
    "## Newbie (Random) Type Investor\n",
    "This investor spends all of their income every year to buy a random number of shares at random times throughout the year"
   ]
  },
  {
   "cell_type": "code",
   "execution_count": 7,
   "id": "direct-panic",
   "metadata": {},
   "outputs": [],
   "source": [
    "rand = Random(vti, vti_div)\n",
    "rand.execute_strategy(2001, 2021)"
   ]
  },
  {
   "cell_type": "markdown",
   "id": "acute-contents",
   "metadata": {},
   "source": [
    "This is the leftover uninvested cash by the end of strategy execution"
   ]
  },
  {
   "cell_type": "code",
   "execution_count": 8,
   "id": "logical-update",
   "metadata": {},
   "outputs": [
    {
     "data": {
      "text/plain": [
       "196.44"
      ]
     },
     "execution_count": 8,
     "metadata": {},
     "output_type": "execute_result"
    }
   ],
   "source": [
    "round(rand.cash, 2)"
   ]
  },
  {
   "cell_type": "markdown",
   "id": "adolescent-printer",
   "metadata": {},
   "source": [
    "This is the investor's portfolio by the end of the strategy execution"
   ]
  },
  {
   "cell_type": "code",
   "execution_count": 9,
   "id": "planned-citation",
   "metadata": {},
   "outputs": [
    {
     "data": {
      "text/html": [
       "<div>\n",
       "<style scoped>\n",
       "    .dataframe tbody tr th:only-of-type {\n",
       "        vertical-align: middle;\n",
       "    }\n",
       "\n",
       "    .dataframe tbody tr th {\n",
       "        vertical-align: top;\n",
       "    }\n",
       "\n",
       "    .dataframe thead th {\n",
       "        text-align: right;\n",
       "    }\n",
       "</style>\n",
       "<table border=\"1\" class=\"dataframe\">\n",
       "  <thead>\n",
       "    <tr style=\"text-align: right;\">\n",
       "      <th></th>\n",
       "      <th>Date</th>\n",
       "      <th>Purchase Price</th>\n",
       "    </tr>\n",
       "  </thead>\n",
       "  <tbody>\n",
       "    <tr>\n",
       "      <th>0</th>\n",
       "      <td>2001-12-31</td>\n",
       "      <td>53.475</td>\n",
       "    </tr>\n",
       "    <tr>\n",
       "      <th>1</th>\n",
       "      <td>2001-12-31</td>\n",
       "      <td>53.475</td>\n",
       "    </tr>\n",
       "    <tr>\n",
       "      <th>2</th>\n",
       "      <td>2001-12-31</td>\n",
       "      <td>53.475</td>\n",
       "    </tr>\n",
       "    <tr>\n",
       "      <th>3</th>\n",
       "      <td>2001-12-31</td>\n",
       "      <td>53.475</td>\n",
       "    </tr>\n",
       "    <tr>\n",
       "      <th>4</th>\n",
       "      <td>2001-12-31</td>\n",
       "      <td>53.475</td>\n",
       "    </tr>\n",
       "    <tr>\n",
       "      <th>...</th>\n",
       "      <td>...</td>\n",
       "      <td>...</td>\n",
       "    </tr>\n",
       "    <tr>\n",
       "      <th>1686</th>\n",
       "      <td>2021-01-06</td>\n",
       "      <td>196.890</td>\n",
       "    </tr>\n",
       "    <tr>\n",
       "      <th>1687</th>\n",
       "      <td>2021-01-06</td>\n",
       "      <td>196.890</td>\n",
       "    </tr>\n",
       "    <tr>\n",
       "      <th>1688</th>\n",
       "      <td>2021-01-06</td>\n",
       "      <td>196.890</td>\n",
       "    </tr>\n",
       "    <tr>\n",
       "      <th>1689</th>\n",
       "      <td>2021-01-06</td>\n",
       "      <td>196.890</td>\n",
       "    </tr>\n",
       "    <tr>\n",
       "      <th>1690</th>\n",
       "      <td>2021-01-06</td>\n",
       "      <td>196.890</td>\n",
       "    </tr>\n",
       "  </tbody>\n",
       "</table>\n",
       "<p>1691 rows × 2 columns</p>\n",
       "</div>"
      ],
      "text/plain": [
       "           Date  Purchase Price\n",
       "0    2001-12-31          53.475\n",
       "1    2001-12-31          53.475\n",
       "2    2001-12-31          53.475\n",
       "3    2001-12-31          53.475\n",
       "4    2001-12-31          53.475\n",
       "...         ...             ...\n",
       "1686 2021-01-06         196.890\n",
       "1687 2021-01-06         196.890\n",
       "1688 2021-01-06         196.890\n",
       "1689 2021-01-06         196.890\n",
       "1690 2021-01-06         196.890\n",
       "\n",
       "[1691 rows x 2 columns]"
      ]
     },
     "execution_count": 9,
     "metadata": {},
     "output_type": "execute_result"
    }
   ],
   "source": [
    "rand.portfolio"
   ]
  },
  {
   "cell_type": "markdown",
   "id": "close-raise",
   "metadata": {},
   "source": [
    "This is how much money the investor spent on buying the stocks"
   ]
  },
  {
   "cell_type": "code",
   "execution_count": 10,
   "id": "english-courtesy",
   "metadata": {},
   "outputs": [
    {
     "data": {
      "text/plain": [
       "125803.56"
      ]
     },
     "execution_count": 10,
     "metadata": {},
     "output_type": "execute_result"
    }
   ],
   "source": [
    "rand.get_invested()"
   ]
  },
  {
   "cell_type": "markdown",
   "id": "sharp-sacrifice",
   "metadata": {},
   "source": [
    "This is how much money the investments are worth if we are to sell at the given date"
   ]
  },
  {
   "cell_type": "code",
   "execution_count": 11,
   "id": "advisory-stomach",
   "metadata": {},
   "outputs": [
    {
     "data": {
      "text/plain": [
       "324609.22"
      ]
     },
     "execution_count": 11,
     "metadata": {},
     "output_type": "execute_result"
    }
   ],
   "source": [
    "date = '2021-1-04'\n",
    "rand.get_value(date)"
   ]
  },
  {
   "cell_type": "markdown",
   "id": "humanitarian-review",
   "metadata": {},
   "source": [
    "Let's take a look at the profits that are made from this investment strategy."
   ]
  },
  {
   "cell_type": "code",
   "execution_count": 12,
   "id": "spread-integral",
   "metadata": {
    "scrolled": true
   },
   "outputs": [
    {
     "data": {
      "text/html": [
       "<div>\n",
       "<style scoped>\n",
       "    .dataframe tbody tr th:only-of-type {\n",
       "        vertical-align: middle;\n",
       "    }\n",
       "\n",
       "    .dataframe tbody tr th {\n",
       "        vertical-align: top;\n",
       "    }\n",
       "\n",
       "    .dataframe thead th {\n",
       "        text-align: right;\n",
       "    }\n",
       "</style>\n",
       "<table border=\"1\" class=\"dataframe\">\n",
       "  <thead>\n",
       "    <tr style=\"text-align: right;\">\n",
       "      <th></th>\n",
       "      <th>Date</th>\n",
       "      <th>Profits</th>\n",
       "    </tr>\n",
       "  </thead>\n",
       "  <tbody>\n",
       "    <tr>\n",
       "      <th>0</th>\n",
       "      <td>2001-06-15</td>\n",
       "      <td>0.0000</td>\n",
       "    </tr>\n",
       "    <tr>\n",
       "      <th>1</th>\n",
       "      <td>2001-06-29</td>\n",
       "      <td>0.0000</td>\n",
       "    </tr>\n",
       "    <tr>\n",
       "      <th>2</th>\n",
       "      <td>2001-07-31</td>\n",
       "      <td>0.0000</td>\n",
       "    </tr>\n",
       "    <tr>\n",
       "      <th>3</th>\n",
       "      <td>2001-08-31</td>\n",
       "      <td>0.0000</td>\n",
       "    </tr>\n",
       "    <tr>\n",
       "      <th>4</th>\n",
       "      <td>2001-09-28</td>\n",
       "      <td>0.0000</td>\n",
       "    </tr>\n",
       "    <tr>\n",
       "      <th>...</th>\n",
       "      <td>...</td>\n",
       "      <td>...</td>\n",
       "    </tr>\n",
       "    <tr>\n",
       "      <th>233</th>\n",
       "      <td>2020-10-30</td>\n",
       "      <td>160396.8853</td>\n",
       "    </tr>\n",
       "    <tr>\n",
       "      <th>234</th>\n",
       "      <td>2020-11-30</td>\n",
       "      <td>192587.0753</td>\n",
       "    </tr>\n",
       "    <tr>\n",
       "      <th>235</th>\n",
       "      <td>2020-12-31</td>\n",
       "      <td>203782.1953</td>\n",
       "    </tr>\n",
       "    <tr>\n",
       "      <th>236</th>\n",
       "      <td>2021-01-29</td>\n",
       "      <td>207746.1853</td>\n",
       "    </tr>\n",
       "    <tr>\n",
       "      <th>237</th>\n",
       "      <td>2021-02-16</td>\n",
       "      <td>226583.9253</td>\n",
       "    </tr>\n",
       "  </tbody>\n",
       "</table>\n",
       "<p>238 rows × 2 columns</p>\n",
       "</div>"
      ],
      "text/plain": [
       "          Date      Profits\n",
       "0   2001-06-15       0.0000\n",
       "1   2001-06-29       0.0000\n",
       "2   2001-07-31       0.0000\n",
       "3   2001-08-31       0.0000\n",
       "4   2001-09-28       0.0000\n",
       "..         ...          ...\n",
       "233 2020-10-30  160396.8853\n",
       "234 2020-11-30  192587.0753\n",
       "235 2020-12-31  203782.1953\n",
       "236 2021-01-29  207746.1853\n",
       "237 2021-02-16  226583.9253\n",
       "\n",
       "[238 rows x 2 columns]"
      ]
     },
     "execution_count": 12,
     "metadata": {},
     "output_type": "execute_result"
    }
   ],
   "source": [
    "rand.profits"
   ]
  },
  {
   "cell_type": "code",
   "execution_count": 13,
   "id": "lovely-flower",
   "metadata": {},
   "outputs": [
    {
     "data": {
      "image/png": "[encoded data removed]",
      "text/plain": [
       "<Figure size 1152x432 with 1 Axes>"
      ]
     },
     "metadata": {},
     "output_type": "display_data"
    }
   ],
   "source": [
    "plt.figure(figsize=(16, 6))\n",
    "g = sns.lineplot(x='Date', y='Profits', data=rand.profits)\n",
    "plt.xticks([datetime.datetime(year=x, month=1, day=1) for x in range(2001, 2023)], rotation=45)\n",
    "g.set_xticklabels(list(range(2001, 2023)))\n",
    "g.set_xlabel('Year')\n",
    "g.set_ylabel('Profit')\n",
    "g.set_title('Profits Made Per Month From Investments Using Random strategy');"
   ]
  },
  {
   "cell_type": "markdown",
   "id": "little-center",
   "metadata": {},
   "source": [
    "This shows the money made from dividends"
   ]
  },
  {
   "cell_type": "code",
   "execution_count": 14,
   "id": "separated-portland",
   "metadata": {},
   "outputs": [
    {
     "data": {
      "text/html": [
       "<div>\n",
       "<style scoped>\n",
       "    .dataframe tbody tr th:only-of-type {\n",
       "        vertical-align: middle;\n",
       "    }\n",
       "\n",
       "    .dataframe tbody tr th {\n",
       "        vertical-align: top;\n",
       "    }\n",
       "\n",
       "    .dataframe thead th {\n",
       "        text-align: right;\n",
       "    }\n",
       "</style>\n",
       "<table border=\"1\" class=\"dataframe\">\n",
       "  <thead>\n",
       "    <tr style=\"text-align: right;\">\n",
       "      <th></th>\n",
       "      <th>Date</th>\n",
       "      <th>Dividend Disbursement</th>\n",
       "      <th>Total Dividends</th>\n",
       "    </tr>\n",
       "  </thead>\n",
       "  <tbody>\n",
       "    <tr>\n",
       "      <th>0</th>\n",
       "      <td>2001-06-25</td>\n",
       "      <td>0.000</td>\n",
       "      <td>0.000</td>\n",
       "    </tr>\n",
       "    <tr>\n",
       "      <th>1</th>\n",
       "      <td>2001-09-24</td>\n",
       "      <td>0.000</td>\n",
       "      <td>0.000</td>\n",
       "    </tr>\n",
       "    <tr>\n",
       "      <th>2</th>\n",
       "      <td>2001-12-24</td>\n",
       "      <td>0.000</td>\n",
       "      <td>0.000</td>\n",
       "    </tr>\n",
       "    <tr>\n",
       "      <th>3</th>\n",
       "      <td>2002-03-25</td>\n",
       "      <td>16.800</td>\n",
       "      <td>16.800</td>\n",
       "    </tr>\n",
       "    <tr>\n",
       "      <th>4</th>\n",
       "      <td>2002-06-24</td>\n",
       "      <td>14.560</td>\n",
       "      <td>31.360</td>\n",
       "    </tr>\n",
       "    <tr>\n",
       "      <th>...</th>\n",
       "      <td>...</td>\n",
       "      <td>...</td>\n",
       "      <td>...</td>\n",
       "    </tr>\n",
       "    <tr>\n",
       "      <th>74</th>\n",
       "      <td>2019-12-24</td>\n",
       "      <td>1442.408</td>\n",
       "      <td>32798.570</td>\n",
       "    </tr>\n",
       "    <tr>\n",
       "      <th>75</th>\n",
       "      <td>2020-03-26</td>\n",
       "      <td>999.592</td>\n",
       "      <td>33798.162</td>\n",
       "    </tr>\n",
       "    <tr>\n",
       "      <th>76</th>\n",
       "      <td>2020-06-25</td>\n",
       "      <td>1139.600</td>\n",
       "      <td>34937.762</td>\n",
       "    </tr>\n",
       "    <tr>\n",
       "      <th>77</th>\n",
       "      <td>2020-09-25</td>\n",
       "      <td>1119.514</td>\n",
       "      <td>36057.276</td>\n",
       "    </tr>\n",
       "    <tr>\n",
       "      <th>78</th>\n",
       "      <td>2020-12-24</td>\n",
       "      <td>1298.902</td>\n",
       "      <td>37356.178</td>\n",
       "    </tr>\n",
       "  </tbody>\n",
       "</table>\n",
       "<p>79 rows × 3 columns</p>\n",
       "</div>"
      ],
      "text/plain": [
       "         Date  Dividend Disbursement  Total Dividends\n",
       "0  2001-06-25                  0.000            0.000\n",
       "1  2001-09-24                  0.000            0.000\n",
       "2  2001-12-24                  0.000            0.000\n",
       "3  2002-03-25                 16.800           16.800\n",
       "4  2002-06-24                 14.560           31.360\n",
       "..        ...                    ...              ...\n",
       "74 2019-12-24               1442.408        32798.570\n",
       "75 2020-03-26                999.592        33798.162\n",
       "76 2020-06-25               1139.600        34937.762\n",
       "77 2020-09-25               1119.514        36057.276\n",
       "78 2020-12-24               1298.902        37356.178\n",
       "\n",
       "[79 rows x 3 columns]"
      ]
     },
     "execution_count": 14,
     "metadata": {},
     "output_type": "execute_result"
    }
   ],
   "source": [
    "rand.dividends"
   ]
  },
  {
   "cell_type": "code",
   "execution_count": 15,
   "id": "following-queens",
   "metadata": {},
   "outputs": [
    {
     "data": {
      "image/png": "[encoded data removed]",
      "text/plain": [
       "<Figure size 1152x432 with 1 Axes>"
      ]
     },
     "metadata": {},
     "output_type": "display_data"
    }
   ],
   "source": [
    "plt.figure(figsize=(16, 6))\n",
    "g = sns.lineplot(x='Date', y='Total Dividends', data=rand.dividends)\n",
    "plt.xticks([datetime.datetime(year=x, month=1, day=1) for x in range(2001, 2023)], rotation=45)\n",
    "g.set_xticklabels(list(range(2001, 2023)))\n",
    "g.set_xlabel('Year')\n",
    "g.set_ylabel('Dividends')\n",
    "g.set_title('Profits Made Per Month From Dividends Using Random strategy');"
   ]
  },
  {
   "cell_type": "markdown",
   "id": "ready-trainer",
   "metadata": {},
   "source": [
    "Here, we overlay the profits made from investments and dividends"
   ]
  },
  {
   "cell_type": "code",
   "execution_count": 16,
   "id": "skilled-siemens",
   "metadata": {},
   "outputs": [
    {
     "data": {
      "text/html": [
       "<div>\n",
       "<style scoped>\n",
       "    .dataframe tbody tr th:only-of-type {\n",
       "        vertical-align: middle;\n",
       "    }\n",
       "\n",
       "    .dataframe tbody tr th {\n",
       "        vertical-align: top;\n",
       "    }\n",
       "\n",
       "    .dataframe thead th {\n",
       "        text-align: right;\n",
       "    }\n",
       "</style>\n",
       "<table border=\"1\" class=\"dataframe\">\n",
       "  <thead>\n",
       "    <tr style=\"text-align: right;\">\n",
       "      <th></th>\n",
       "      <th>Date</th>\n",
       "      <th>Profits</th>\n",
       "      <th>Dividend Disbursement</th>\n",
       "      <th>Total Dividends</th>\n",
       "      <th>Total Profits</th>\n",
       "    </tr>\n",
       "  </thead>\n",
       "  <tbody>\n",
       "    <tr>\n",
       "      <th>0</th>\n",
       "      <td>2001-06-15</td>\n",
       "      <td>0.0000</td>\n",
       "      <td>NaN</td>\n",
       "      <td>NaN</td>\n",
       "      <td>NaN</td>\n",
       "    </tr>\n",
       "    <tr>\n",
       "      <th>1</th>\n",
       "      <td>2001-06-25</td>\n",
       "      <td>0.0000</td>\n",
       "      <td>0.000</td>\n",
       "      <td>0.000</td>\n",
       "      <td>0.0000</td>\n",
       "    </tr>\n",
       "    <tr>\n",
       "      <th>2</th>\n",
       "      <td>2001-06-29</td>\n",
       "      <td>0.0000</td>\n",
       "      <td>0.000</td>\n",
       "      <td>0.000</td>\n",
       "      <td>0.0000</td>\n",
       "    </tr>\n",
       "    <tr>\n",
       "      <th>3</th>\n",
       "      <td>2001-07-31</td>\n",
       "      <td>0.0000</td>\n",
       "      <td>0.000</td>\n",
       "      <td>0.000</td>\n",
       "      <td>0.0000</td>\n",
       "    </tr>\n",
       "    <tr>\n",
       "      <th>4</th>\n",
       "      <td>2001-08-31</td>\n",
       "      <td>0.0000</td>\n",
       "      <td>0.000</td>\n",
       "      <td>0.000</td>\n",
       "      <td>0.0000</td>\n",
       "    </tr>\n",
       "    <tr>\n",
       "      <th>...</th>\n",
       "      <td>...</td>\n",
       "      <td>...</td>\n",
       "      <td>...</td>\n",
       "      <td>...</td>\n",
       "      <td>...</td>\n",
       "    </tr>\n",
       "    <tr>\n",
       "      <th>309</th>\n",
       "      <td>2020-11-30</td>\n",
       "      <td>192587.0753</td>\n",
       "      <td>1119.514</td>\n",
       "      <td>36057.276</td>\n",
       "      <td>228644.3513</td>\n",
       "    </tr>\n",
       "    <tr>\n",
       "      <th>310</th>\n",
       "      <td>2020-12-24</td>\n",
       "      <td>192587.0753</td>\n",
       "      <td>1298.902</td>\n",
       "      <td>37356.178</td>\n",
       "      <td>229943.2533</td>\n",
       "    </tr>\n",
       "    <tr>\n",
       "      <th>311</th>\n",
       "      <td>2020-12-31</td>\n",
       "      <td>203782.1953</td>\n",
       "      <td>1298.902</td>\n",
       "      <td>37356.178</td>\n",
       "      <td>241138.3733</td>\n",
       "    </tr>\n",
       "    <tr>\n",
       "      <th>312</th>\n",
       "      <td>2021-01-29</td>\n",
       "      <td>207746.1853</td>\n",
       "      <td>1298.902</td>\n",
       "      <td>37356.178</td>\n",
       "      <td>245102.3633</td>\n",
       "    </tr>\n",
       "    <tr>\n",
       "      <th>313</th>\n",
       "      <td>2021-02-16</td>\n",
       "      <td>226583.9253</td>\n",
       "      <td>1298.902</td>\n",
       "      <td>37356.178</td>\n",
       "      <td>263940.1033</td>\n",
       "    </tr>\n",
       "  </tbody>\n",
       "</table>\n",
       "<p>314 rows × 5 columns</p>\n",
       "</div>"
      ],
      "text/plain": [
       "          Date      Profits  Dividend Disbursement  Total Dividends  \\\n",
       "0   2001-06-15       0.0000                    NaN              NaN   \n",
       "1   2001-06-25       0.0000                  0.000            0.000   \n",
       "2   2001-06-29       0.0000                  0.000            0.000   \n",
       "3   2001-07-31       0.0000                  0.000            0.000   \n",
       "4   2001-08-31       0.0000                  0.000            0.000   \n",
       "..         ...          ...                    ...              ...   \n",
       "309 2020-11-30  192587.0753               1119.514        36057.276   \n",
       "310 2020-12-24  192587.0753               1298.902        37356.178   \n",
       "311 2020-12-31  203782.1953               1298.902        37356.178   \n",
       "312 2021-01-29  207746.1853               1298.902        37356.178   \n",
       "313 2021-02-16  226583.9253               1298.902        37356.178   \n",
       "\n",
       "     Total Profits  \n",
       "0              NaN  \n",
       "1           0.0000  \n",
       "2           0.0000  \n",
       "3           0.0000  \n",
       "4           0.0000  \n",
       "..             ...  \n",
       "309    228644.3513  \n",
       "310    229943.2533  \n",
       "311    241138.3733  \n",
       "312    245102.3633  \n",
       "313    263940.1033  \n",
       "\n",
       "[314 rows x 5 columns]"
      ]
     },
     "execution_count": 16,
     "metadata": {},
     "output_type": "execute_result"
    }
   ],
   "source": [
    "rand_merged = rand.profits.merge(rand.dividends, how='outer', on='Date').sort_values('Date').reset_index(drop=True)\n",
    "rand_merged = rand_merged.fillna(method='pad')\n",
    "rand_merged['Total Profits'] = rand_merged['Profits'] + rand_merged['Total Dividends']\n",
    "rand_merged"
   ]
  },
  {
   "cell_type": "code",
   "execution_count": 17,
   "id": "wired-translation",
   "metadata": {},
   "outputs": [
    {
     "data": {
      "image/png": "[encoded data removed]",
      "text/plain": [
       "<Figure size 432x288 with 1 Axes>"
      ]
     },
     "metadata": {},
     "output_type": "display_data"
    }
   ],
   "source": [
    "x = rand_merged['Date']\n",
    "y1 = rand_merged['Profits']\n",
    "y2 = rand_merged['Total Dividends']\n",
    "\n",
    "y = np.vstack([y1, y2])\n",
    "\n",
    "labels = [\"Profits\", \"Total Dividends\"]\n",
    "\n",
    "fig, ax = plt.subplots()\n",
    "ax.stackplot(x, y, labels=labels)\n",
    "ax.legend(loc='upper left')\n",
    "plt.title('Total Profits Made Per Month Using Random strategy')\n",
    "plt.xticks([datetime.datetime(year=x, month=1, day=1) for x in range(2001, 2023)], rotation=45)\n",
    "ax.set_xticklabels((list(range(2001, 2023))))\n",
    "ax.set_xlabel('Year')\n",
    "ax.set_ylabel('Total Profits')\n",
    "plt.show()"
   ]
  },
  {
   "cell_type": "markdown",
   "id": "closed-shakespeare",
   "metadata": {},
   "source": [
    "## Timing the Market (Ideal) Type Investor\n",
    "This investor uses all their money to buy shares when shares are lowest every year"
   ]
  },
  {
   "cell_type": "code",
   "execution_count": 18,
   "id": "confirmed-appendix",
   "metadata": {
    "scrolled": true
   },
   "outputs": [],
   "source": [
    "ideal = Ideal(vti, vti_div)\n",
    "ideal.execute_strategy(2001, 2021)"
   ]
  },
  {
   "cell_type": "markdown",
   "id": "brave-nightlife",
   "metadata": {},
   "source": [
    "This is the leftover uninvested cash by the end of strategy execution"
   ]
  },
  {
   "cell_type": "code",
   "execution_count": 19,
   "id": "american-malta",
   "metadata": {},
   "outputs": [
    {
     "data": {
      "text/plain": [
       "49.05"
      ]
     },
     "execution_count": 19,
     "metadata": {},
     "output_type": "execute_result"
    }
   ],
   "source": [
    "round(ideal.cash, 2)"
   ]
  },
  {
   "cell_type": "markdown",
   "id": "continental-crime",
   "metadata": {},
   "source": [
    "This is the investor's portfolio by the end of the strategy execution"
   ]
  },
  {
   "cell_type": "code",
   "execution_count": 20,
   "id": "advanced-drink",
   "metadata": {},
   "outputs": [
    {
     "data": {
      "text/html": [
       "<div>\n",
       "<style scoped>\n",
       "    .dataframe tbody tr th:only-of-type {\n",
       "        vertical-align: middle;\n",
       "    }\n",
       "\n",
       "    .dataframe tbody tr th {\n",
       "        vertical-align: top;\n",
       "    }\n",
       "\n",
       "    .dataframe thead th {\n",
       "        text-align: right;\n",
       "    }\n",
       "</style>\n",
       "<table border=\"1\" class=\"dataframe\">\n",
       "  <thead>\n",
       "    <tr style=\"text-align: right;\">\n",
       "      <th></th>\n",
       "      <th>Date</th>\n",
       "      <th>Purchase Price</th>\n",
       "    </tr>\n",
       "  </thead>\n",
       "  <tbody>\n",
       "    <tr>\n",
       "      <th>0</th>\n",
       "      <td>2001-09-21</td>\n",
       "      <td>45.00</td>\n",
       "    </tr>\n",
       "    <tr>\n",
       "      <th>1</th>\n",
       "      <td>2001-09-21</td>\n",
       "      <td>45.00</td>\n",
       "    </tr>\n",
       "    <tr>\n",
       "      <th>2</th>\n",
       "      <td>2001-09-21</td>\n",
       "      <td>45.00</td>\n",
       "    </tr>\n",
       "    <tr>\n",
       "      <th>3</th>\n",
       "      <td>2001-09-21</td>\n",
       "      <td>45.00</td>\n",
       "    </tr>\n",
       "    <tr>\n",
       "      <th>4</th>\n",
       "      <td>2001-09-21</td>\n",
       "      <td>45.00</td>\n",
       "    </tr>\n",
       "    <tr>\n",
       "      <th>...</th>\n",
       "      <td>...</td>\n",
       "      <td>...</td>\n",
       "    </tr>\n",
       "    <tr>\n",
       "      <th>1993</th>\n",
       "      <td>2021-01-05</td>\n",
       "      <td>193.95</td>\n",
       "    </tr>\n",
       "    <tr>\n",
       "      <th>1994</th>\n",
       "      <td>2021-01-05</td>\n",
       "      <td>193.95</td>\n",
       "    </tr>\n",
       "    <tr>\n",
       "      <th>1995</th>\n",
       "      <td>2021-01-05</td>\n",
       "      <td>193.95</td>\n",
       "    </tr>\n",
       "    <tr>\n",
       "      <th>1996</th>\n",
       "      <td>2021-01-05</td>\n",
       "      <td>193.95</td>\n",
       "    </tr>\n",
       "    <tr>\n",
       "      <th>1997</th>\n",
       "      <td>2021-01-05</td>\n",
       "      <td>193.95</td>\n",
       "    </tr>\n",
       "  </tbody>\n",
       "</table>\n",
       "<p>1998 rows × 2 columns</p>\n",
       "</div>"
      ],
      "text/plain": [
       "           Date  Purchase Price\n",
       "0    2001-09-21           45.00\n",
       "1    2001-09-21           45.00\n",
       "2    2001-09-21           45.00\n",
       "3    2001-09-21           45.00\n",
       "4    2001-09-21           45.00\n",
       "...         ...             ...\n",
       "1993 2021-01-05          193.95\n",
       "1994 2021-01-05          193.95\n",
       "1995 2021-01-05          193.95\n",
       "1996 2021-01-05          193.95\n",
       "1997 2021-01-05          193.95\n",
       "\n",
       "[1998 rows x 2 columns]"
      ]
     },
     "execution_count": 20,
     "metadata": {},
     "output_type": "execute_result"
    }
   ],
   "source": [
    "ideal.portfolio"
   ]
  },
  {
   "cell_type": "markdown",
   "id": "residential-mention",
   "metadata": {},
   "source": [
    "This is how much money the investor spent on buying the stocks"
   ]
  },
  {
   "cell_type": "code",
   "execution_count": 21,
   "id": "alive-quantum",
   "metadata": {},
   "outputs": [
    {
     "data": {
      "text/plain": [
       "125950.95"
      ]
     },
     "execution_count": 21,
     "metadata": {},
     "output_type": "execute_result"
    }
   ],
   "source": [
    "ideal.get_invested()"
   ]
  },
  {
   "cell_type": "markdown",
   "id": "middle-terror",
   "metadata": {},
   "source": [
    "This is how much money the investments are worth if we are to sell at the given date"
   ]
  },
  {
   "cell_type": "code",
   "execution_count": 22,
   "id": "departmental-storage",
   "metadata": {},
   "outputs": [
    {
     "data": {
      "text/plain": [
       "384410.8"
      ]
     },
     "execution_count": 22,
     "metadata": {},
     "output_type": "execute_result"
    }
   ],
   "source": [
    "date = '2021-1-04'\n",
    "ideal.get_value(date)"
   ]
  },
  {
   "cell_type": "markdown",
   "id": "protective-tournament",
   "metadata": {},
   "source": [
    "Let's take a look at the profits that are made from this investment strategy."
   ]
  },
  {
   "cell_type": "code",
   "execution_count": 23,
   "id": "modified-interaction",
   "metadata": {
    "scrolled": true
   },
   "outputs": [
    {
     "data": {
      "text/html": [
       "<div>\n",
       "<style scoped>\n",
       "    .dataframe tbody tr th:only-of-type {\n",
       "        vertical-align: middle;\n",
       "    }\n",
       "\n",
       "    .dataframe tbody tr th {\n",
       "        vertical-align: top;\n",
       "    }\n",
       "\n",
       "    .dataframe thead th {\n",
       "        text-align: right;\n",
       "    }\n",
       "</style>\n",
       "<table border=\"1\" class=\"dataframe\">\n",
       "  <thead>\n",
       "    <tr style=\"text-align: right;\">\n",
       "      <th></th>\n",
       "      <th>Date</th>\n",
       "      <th>Profits</th>\n",
       "    </tr>\n",
       "  </thead>\n",
       "  <tbody>\n",
       "    <tr>\n",
       "      <th>0</th>\n",
       "      <td>2001-06-15</td>\n",
       "      <td>0.0000</td>\n",
       "    </tr>\n",
       "    <tr>\n",
       "      <th>1</th>\n",
       "      <td>2001-06-29</td>\n",
       "      <td>0.0000</td>\n",
       "    </tr>\n",
       "    <tr>\n",
       "      <th>2</th>\n",
       "      <td>2001-07-31</td>\n",
       "      <td>0.0000</td>\n",
       "    </tr>\n",
       "    <tr>\n",
       "      <th>3</th>\n",
       "      <td>2001-08-31</td>\n",
       "      <td>0.0000</td>\n",
       "    </tr>\n",
       "    <tr>\n",
       "      <th>4</th>\n",
       "      <td>2001-09-28</td>\n",
       "      <td>329.1700</td>\n",
       "    </tr>\n",
       "    <tr>\n",
       "      <th>...</th>\n",
       "      <td>...</td>\n",
       "      <td>...</td>\n",
       "    </tr>\n",
       "    <tr>\n",
       "      <th>233</th>\n",
       "      <td>2020-10-30</td>\n",
       "      <td>211992.7504</td>\n",
       "    </tr>\n",
       "    <tr>\n",
       "      <th>234</th>\n",
       "      <td>2020-11-30</td>\n",
       "      <td>250113.2204</td>\n",
       "    </tr>\n",
       "    <tr>\n",
       "      <th>235</th>\n",
       "      <td>2020-12-31</td>\n",
       "      <td>263370.7804</td>\n",
       "    </tr>\n",
       "    <tr>\n",
       "      <th>236</th>\n",
       "      <td>2021-01-29</td>\n",
       "      <td>268154.5505</td>\n",
       "    </tr>\n",
       "    <tr>\n",
       "      <th>237</th>\n",
       "      <td>2021-02-16</td>\n",
       "      <td>290412.2705</td>\n",
       "    </tr>\n",
       "  </tbody>\n",
       "</table>\n",
       "<p>238 rows × 2 columns</p>\n",
       "</div>"
      ],
      "text/plain": [
       "          Date      Profits\n",
       "0   2001-06-15       0.0000\n",
       "1   2001-06-29       0.0000\n",
       "2   2001-07-31       0.0000\n",
       "3   2001-08-31       0.0000\n",
       "4   2001-09-28     329.1700\n",
       "..         ...          ...\n",
       "233 2020-10-30  211992.7504\n",
       "234 2020-11-30  250113.2204\n",
       "235 2020-12-31  263370.7804\n",
       "236 2021-01-29  268154.5505\n",
       "237 2021-02-16  290412.2705\n",
       "\n",
       "[238 rows x 2 columns]"
      ]
     },
     "execution_count": 23,
     "metadata": {},
     "output_type": "execute_result"
    }
   ],
   "source": [
    "ideal.profits"
   ]
  },
  {
   "cell_type": "code",
   "execution_count": 24,
   "id": "psychological-mexican",
   "metadata": {
    "scrolled": true
   },
   "outputs": [
    {
     "data": {
      "image/png": "[encoded data removed]",
      "text/plain": [
       "<Figure size 1152x432 with 1 Axes>"
      ]
     },
     "metadata": {},
     "output_type": "display_data"
    }
   ],
   "source": [
    "plt.figure(figsize=(16, 6))\n",
    "g = sns.lineplot(x='Date', y='Profits', data=ideal.profits)\n",
    "plt.xticks([datetime.datetime(year=x, month=1, day=1) for x in range(2001, 2023)], rotation=45)\n",
    "g.set_xticklabels(list(range(2001, 2023)))\n",
    "g.set_xlabel('Year')\n",
    "g.set_ylabel('Profit')\n",
    "g.set_title('Profits Made Per Month From Investments Using Ideal strategy');"
   ]
  },
  {
   "cell_type": "markdown",
   "id": "accessible-prescription",
   "metadata": {},
   "source": [
    "This shows the money made from dividends"
   ]
  },
  {
   "cell_type": "code",
   "execution_count": 25,
   "id": "blond-subscription",
   "metadata": {},
   "outputs": [
    {
     "data": {
      "text/html": [
       "<div>\n",
       "<style scoped>\n",
       "    .dataframe tbody tr th:only-of-type {\n",
       "        vertical-align: middle;\n",
       "    }\n",
       "\n",
       "    .dataframe tbody tr th {\n",
       "        vertical-align: top;\n",
       "    }\n",
       "\n",
       "    .dataframe thead th {\n",
       "        text-align: right;\n",
       "    }\n",
       "</style>\n",
       "<table border=\"1\" class=\"dataframe\">\n",
       "  <thead>\n",
       "    <tr style=\"text-align: right;\">\n",
       "      <th></th>\n",
       "      <th>Date</th>\n",
       "      <th>Dividend Disbursement</th>\n",
       "      <th>Total Dividends</th>\n",
       "    </tr>\n",
       "  </thead>\n",
       "  <tbody>\n",
       "    <tr>\n",
       "      <th>0</th>\n",
       "      <td>2001-06-25</td>\n",
       "      <td>0.0000</td>\n",
       "      <td>0.0000</td>\n",
       "    </tr>\n",
       "    <tr>\n",
       "      <th>1</th>\n",
       "      <td>2001-09-24</td>\n",
       "      <td>20.9475</td>\n",
       "      <td>20.9475</td>\n",
       "    </tr>\n",
       "    <tr>\n",
       "      <th>2</th>\n",
       "      <td>2001-12-24</td>\n",
       "      <td>26.1345</td>\n",
       "      <td>47.0820</td>\n",
       "    </tr>\n",
       "    <tr>\n",
       "      <th>3</th>\n",
       "      <td>2002-03-25</td>\n",
       "      <td>19.9500</td>\n",
       "      <td>67.0320</td>\n",
       "    </tr>\n",
       "    <tr>\n",
       "      <th>4</th>\n",
       "      <td>2002-06-24</td>\n",
       "      <td>17.2900</td>\n",
       "      <td>84.3220</td>\n",
       "    </tr>\n",
       "    <tr>\n",
       "      <th>...</th>\n",
       "      <td>...</td>\n",
       "      <td>...</td>\n",
       "      <td>...</td>\n",
       "    </tr>\n",
       "    <tr>\n",
       "      <th>74</th>\n",
       "      <td>2019-12-24</td>\n",
       "      <td>1696.6900</td>\n",
       "      <td>39136.3160</td>\n",
       "    </tr>\n",
       "    <tr>\n",
       "      <th>75</th>\n",
       "      <td>2020-03-26</td>\n",
       "      <td>1207.7380</td>\n",
       "      <td>40344.0540</td>\n",
       "    </tr>\n",
       "    <tr>\n",
       "      <th>76</th>\n",
       "      <td>2020-06-25</td>\n",
       "      <td>1376.9000</td>\n",
       "      <td>41720.9540</td>\n",
       "    </tr>\n",
       "    <tr>\n",
       "      <th>77</th>\n",
       "      <td>2020-09-25</td>\n",
       "      <td>1325.7580</td>\n",
       "      <td>43046.7120</td>\n",
       "    </tr>\n",
       "    <tr>\n",
       "      <th>78</th>\n",
       "      <td>2020-12-24</td>\n",
       "      <td>1538.1940</td>\n",
       "      <td>44584.9060</td>\n",
       "    </tr>\n",
       "  </tbody>\n",
       "</table>\n",
       "<p>79 rows × 3 columns</p>\n",
       "</div>"
      ],
      "text/plain": [
       "         Date  Dividend Disbursement  Total Dividends\n",
       "0  2001-06-25                 0.0000           0.0000\n",
       "1  2001-09-24                20.9475          20.9475\n",
       "2  2001-12-24                26.1345          47.0820\n",
       "3  2002-03-25                19.9500          67.0320\n",
       "4  2002-06-24                17.2900          84.3220\n",
       "..        ...                    ...              ...\n",
       "74 2019-12-24              1696.6900       39136.3160\n",
       "75 2020-03-26              1207.7380       40344.0540\n",
       "76 2020-06-25              1376.9000       41720.9540\n",
       "77 2020-09-25              1325.7580       43046.7120\n",
       "78 2020-12-24              1538.1940       44584.9060\n",
       "\n",
       "[79 rows x 3 columns]"
      ]
     },
     "execution_count": 25,
     "metadata": {},
     "output_type": "execute_result"
    }
   ],
   "source": [
    "ideal.dividends"
   ]
  },
  {
   "cell_type": "code",
   "execution_count": 26,
   "id": "common-signal",
   "metadata": {},
   "outputs": [
    {
     "data": {
      "image/png": "[encoded data removed]",
      "text/plain": [
       "<Figure size 1152x432 with 1 Axes>"
      ]
     },
     "metadata": {},
     "output_type": "display_data"
    }
   ],
   "source": [
    "plt.figure(figsize=(16, 6))\n",
    "g = sns.lineplot(x='Date', y='Total Dividends', data=ideal.dividends)\n",
    "plt.xticks([datetime.datetime(year=x, month=1, day=1) for x in range(2001, 2023)], rotation=45)\n",
    "g.set_xticklabels(list(range(2001, 2023)))\n",
    "g.set_xlabel('Year')\n",
    "g.set_ylabel('Dividends')\n",
    "g.set_title('Profits Made Per Month From Dividends Using Ideal strategy');"
   ]
  },
  {
   "cell_type": "markdown",
   "id": "environmental-gamma",
   "metadata": {},
   "source": [
    "Here, we overlay the profits made from investments and dividends"
   ]
  },
  {
   "cell_type": "code",
   "execution_count": 27,
   "id": "virtual-tiffany",
   "metadata": {},
   "outputs": [
    {
     "data": {
      "text/html": [
       "<div>\n",
       "<style scoped>\n",
       "    .dataframe tbody tr th:only-of-type {\n",
       "        vertical-align: middle;\n",
       "    }\n",
       "\n",
       "    .dataframe tbody tr th {\n",
       "        vertical-align: top;\n",
       "    }\n",
       "\n",
       "    .dataframe thead th {\n",
       "        text-align: right;\n",
       "    }\n",
       "</style>\n",
       "<table border=\"1\" class=\"dataframe\">\n",
       "  <thead>\n",
       "    <tr style=\"text-align: right;\">\n",
       "      <th></th>\n",
       "      <th>Date</th>\n",
       "      <th>Profits</th>\n",
       "      <th>Dividend Disbursement</th>\n",
       "      <th>Total Dividends</th>\n",
       "      <th>Total Profits</th>\n",
       "    </tr>\n",
       "  </thead>\n",
       "  <tbody>\n",
       "    <tr>\n",
       "      <th>0</th>\n",
       "      <td>2001-06-15</td>\n",
       "      <td>0.0000</td>\n",
       "      <td>NaN</td>\n",
       "      <td>NaN</td>\n",
       "      <td>NaN</td>\n",
       "    </tr>\n",
       "    <tr>\n",
       "      <th>1</th>\n",
       "      <td>2001-06-25</td>\n",
       "      <td>0.0000</td>\n",
       "      <td>0.000</td>\n",
       "      <td>0.000</td>\n",
       "      <td>0.0000</td>\n",
       "    </tr>\n",
       "    <tr>\n",
       "      <th>2</th>\n",
       "      <td>2001-06-29</td>\n",
       "      <td>0.0000</td>\n",
       "      <td>0.000</td>\n",
       "      <td>0.000</td>\n",
       "      <td>0.0000</td>\n",
       "    </tr>\n",
       "    <tr>\n",
       "      <th>3</th>\n",
       "      <td>2001-07-31</td>\n",
       "      <td>0.0000</td>\n",
       "      <td>0.000</td>\n",
       "      <td>0.000</td>\n",
       "      <td>0.0000</td>\n",
       "    </tr>\n",
       "    <tr>\n",
       "      <th>4</th>\n",
       "      <td>2001-08-31</td>\n",
       "      <td>0.0000</td>\n",
       "      <td>0.000</td>\n",
       "      <td>0.000</td>\n",
       "      <td>0.0000</td>\n",
       "    </tr>\n",
       "    <tr>\n",
       "      <th>...</th>\n",
       "      <td>...</td>\n",
       "      <td>...</td>\n",
       "      <td>...</td>\n",
       "      <td>...</td>\n",
       "      <td>...</td>\n",
       "    </tr>\n",
       "    <tr>\n",
       "      <th>309</th>\n",
       "      <td>2020-11-30</td>\n",
       "      <td>250113.2204</td>\n",
       "      <td>1325.758</td>\n",
       "      <td>43046.712</td>\n",
       "      <td>293159.9324</td>\n",
       "    </tr>\n",
       "    <tr>\n",
       "      <th>310</th>\n",
       "      <td>2020-12-24</td>\n",
       "      <td>250113.2204</td>\n",
       "      <td>1538.194</td>\n",
       "      <td>44584.906</td>\n",
       "      <td>294698.1264</td>\n",
       "    </tr>\n",
       "    <tr>\n",
       "      <th>311</th>\n",
       "      <td>2020-12-31</td>\n",
       "      <td>263370.7804</td>\n",
       "      <td>1538.194</td>\n",
       "      <td>44584.906</td>\n",
       "      <td>307955.6864</td>\n",
       "    </tr>\n",
       "    <tr>\n",
       "      <th>312</th>\n",
       "      <td>2021-01-29</td>\n",
       "      <td>268154.5505</td>\n",
       "      <td>1538.194</td>\n",
       "      <td>44584.906</td>\n",
       "      <td>312739.4565</td>\n",
       "    </tr>\n",
       "    <tr>\n",
       "      <th>313</th>\n",
       "      <td>2021-02-16</td>\n",
       "      <td>290412.2705</td>\n",
       "      <td>1538.194</td>\n",
       "      <td>44584.906</td>\n",
       "      <td>334997.1765</td>\n",
       "    </tr>\n",
       "  </tbody>\n",
       "</table>\n",
       "<p>314 rows × 5 columns</p>\n",
       "</div>"
      ],
      "text/plain": [
       "          Date      Profits  Dividend Disbursement  Total Dividends  \\\n",
       "0   2001-06-15       0.0000                    NaN              NaN   \n",
       "1   2001-06-25       0.0000                  0.000            0.000   \n",
       "2   2001-06-29       0.0000                  0.000            0.000   \n",
       "3   2001-07-31       0.0000                  0.000            0.000   \n",
       "4   2001-08-31       0.0000                  0.000            0.000   \n",
       "..         ...          ...                    ...              ...   \n",
       "309 2020-11-30  250113.2204               1325.758        43046.712   \n",
       "310 2020-12-24  250113.2204               1538.194        44584.906   \n",
       "311 2020-12-31  263370.7804               1538.194        44584.906   \n",
       "312 2021-01-29  268154.5505               1538.194        44584.906   \n",
       "313 2021-02-16  290412.2705               1538.194        44584.906   \n",
       "\n",
       "     Total Profits  \n",
       "0              NaN  \n",
       "1           0.0000  \n",
       "2           0.0000  \n",
       "3           0.0000  \n",
       "4           0.0000  \n",
       "..             ...  \n",
       "309    293159.9324  \n",
       "310    294698.1264  \n",
       "311    307955.6864  \n",
       "312    312739.4565  \n",
       "313    334997.1765  \n",
       "\n",
       "[314 rows x 5 columns]"
      ]
     },
     "execution_count": 27,
     "metadata": {},
     "output_type": "execute_result"
    }
   ],
   "source": [
    "ideal_merged = ideal.profits.merge(ideal.dividends, how='outer', on='Date').sort_values('Date').reset_index(drop=True)\n",
    "ideal_merged = ideal_merged.fillna(method='pad')\n",
    "ideal_merged['Total Profits'] = ideal_merged['Profits'] + ideal_merged['Total Dividends']\n",
    "ideal_merged"
   ]
  },
  {
   "cell_type": "code",
   "execution_count": 28,
   "id": "whole-partition",
   "metadata": {
    "scrolled": true
   },
   "outputs": [
    {
     "data": {
      "image/png": "[encoded data removed]",
      "text/plain": [
       "<Figure size 432x288 with 1 Axes>"
      ]
     },
     "metadata": {},
     "output_type": "display_data"
    }
   ],
   "source": [
    "x = ideal_merged['Date']\n",
    "y1 = ideal_merged['Profits']\n",
    "y2 = ideal_merged['Total Dividends']\n",
    "\n",
    "y = np.vstack([y1, y2])\n",
    "\n",
    "labels = [\"Profits\", \"Total Dividends\"]\n",
    "\n",
    "fig, ax = plt.subplots()\n",
    "ax.stackplot(x, y, labels=labels)\n",
    "ax.legend(loc='upper left')\n",
    "plt.title('Total Profits Made Per Month Using Ideal strategy')\n",
    "plt.xticks([datetime.datetime(year=x, month=1, day=1) for x in range(2001, 2023)], rotation=45)\n",
    "ax.set_xticklabels((list(range(2001, 2023))))\n",
    "ax.set_xlabel('Year')\n",
    "ax.set_ylabel('Total Profits')\n",
    "plt.show()"
   ]
  },
  {
   "cell_type": "markdown",
   "id": "annual-sixth",
   "metadata": {},
   "source": [
    "## Take Action (Now) Type Investor\n",
    "This investor uses all of their money to buy shares at beginning of year"
   ]
  },
  {
   "cell_type": "code",
   "execution_count": 29,
   "id": "amino-composition",
   "metadata": {
    "scrolled": true
   },
   "outputs": [],
   "source": [
    "now = Now(vti, vti_div)\n",
    "now.execute_strategy(2001, 2021)"
   ]
  },
  {
   "cell_type": "markdown",
   "id": "amino-variation",
   "metadata": {},
   "source": [
    "This is the leftover uninvested cash by the end of strategy execution"
   ]
  },
  {
   "cell_type": "code",
   "execution_count": 30,
   "id": "false-adult",
   "metadata": {
    "tags": []
   },
   "outputs": [
    {
     "data": {
      "text/plain": [
       "140.41"
      ]
     },
     "execution_count": 30,
     "metadata": {},
     "output_type": "execute_result"
    }
   ],
   "source": [
    "round(now.cash, 2)"
   ]
  },
  {
   "cell_type": "markdown",
   "id": "great-chest",
   "metadata": {},
   "source": [
    "This is the investor's portfolio by the end of the strategy execution"
   ]
  },
  {
   "cell_type": "code",
   "execution_count": 31,
   "id": "hollywood-killer",
   "metadata": {},
   "outputs": [
    {
     "data": {
      "text/html": [
       "<div>\n",
       "<style scoped>\n",
       "    .dataframe tbody tr th:only-of-type {\n",
       "        vertical-align: middle;\n",
       "    }\n",
       "\n",
       "    .dataframe tbody tr th {\n",
       "        vertical-align: top;\n",
       "    }\n",
       "\n",
       "    .dataframe thead th {\n",
       "        text-align: right;\n",
       "    }\n",
       "</style>\n",
       "<table border=\"1\" class=\"dataframe\">\n",
       "  <thead>\n",
       "    <tr style=\"text-align: right;\">\n",
       "      <th></th>\n",
       "      <th>Date</th>\n",
       "      <th>Purchase Price</th>\n",
       "    </tr>\n",
       "  </thead>\n",
       "  <tbody>\n",
       "    <tr>\n",
       "      <th>0</th>\n",
       "      <td>2001-06-15</td>\n",
       "      <td>56.005</td>\n",
       "    </tr>\n",
       "    <tr>\n",
       "      <th>1</th>\n",
       "      <td>2001-06-15</td>\n",
       "      <td>56.005</td>\n",
       "    </tr>\n",
       "    <tr>\n",
       "      <th>2</th>\n",
       "      <td>2001-06-15</td>\n",
       "      <td>56.005</td>\n",
       "    </tr>\n",
       "    <tr>\n",
       "      <th>3</th>\n",
       "      <td>2001-06-15</td>\n",
       "      <td>56.005</td>\n",
       "    </tr>\n",
       "    <tr>\n",
       "      <th>4</th>\n",
       "      <td>2001-06-15</td>\n",
       "      <td>56.005</td>\n",
       "    </tr>\n",
       "    <tr>\n",
       "      <th>...</th>\n",
       "      <td>...</td>\n",
       "      <td>...</td>\n",
       "    </tr>\n",
       "    <tr>\n",
       "      <th>1713</th>\n",
       "      <td>2021-01-04</td>\n",
       "      <td>195.430</td>\n",
       "    </tr>\n",
       "    <tr>\n",
       "      <th>1714</th>\n",
       "      <td>2021-01-04</td>\n",
       "      <td>195.430</td>\n",
       "    </tr>\n",
       "    <tr>\n",
       "      <th>1715</th>\n",
       "      <td>2021-01-04</td>\n",
       "      <td>195.430</td>\n",
       "    </tr>\n",
       "    <tr>\n",
       "      <th>1716</th>\n",
       "      <td>2021-01-04</td>\n",
       "      <td>195.430</td>\n",
       "    </tr>\n",
       "    <tr>\n",
       "      <th>1717</th>\n",
       "      <td>2021-01-04</td>\n",
       "      <td>195.430</td>\n",
       "    </tr>\n",
       "  </tbody>\n",
       "</table>\n",
       "<p>1718 rows × 2 columns</p>\n",
       "</div>"
      ],
      "text/plain": [
       "           Date  Purchase Price\n",
       "0    2001-06-15          56.005\n",
       "1    2001-06-15          56.005\n",
       "2    2001-06-15          56.005\n",
       "3    2001-06-15          56.005\n",
       "4    2001-06-15          56.005\n",
       "...         ...             ...\n",
       "1713 2021-01-04         195.430\n",
       "1714 2021-01-04         195.430\n",
       "1715 2021-01-04         195.430\n",
       "1716 2021-01-04         195.430\n",
       "1717 2021-01-04         195.430\n",
       "\n",
       "[1718 rows x 2 columns]"
      ]
     },
     "execution_count": 31,
     "metadata": {},
     "output_type": "execute_result"
    }
   ],
   "source": [
    "now.portfolio"
   ]
  },
  {
   "cell_type": "markdown",
   "id": "conditional-introduction",
   "metadata": {},
   "source": [
    "This is how much money the investor spent on buying the stocks"
   ]
  },
  {
   "cell_type": "code",
   "execution_count": 32,
   "id": "ranking-termination",
   "metadata": {},
   "outputs": [
    {
     "data": {
      "text/plain": [
       "125859.59"
      ]
     },
     "execution_count": 32,
     "metadata": {},
     "output_type": "execute_result"
    }
   ],
   "source": [
    "now.get_invested()"
   ]
  },
  {
   "cell_type": "markdown",
   "id": "raising-therapy",
   "metadata": {},
   "source": [
    "This is how much money the investments are worth if we are to sell at the given date"
   ]
  },
  {
   "cell_type": "code",
   "execution_count": 33,
   "id": "young-orlando",
   "metadata": {},
   "outputs": [
    {
     "data": {
      "text/plain": [
       "335748.73"
      ]
     },
     "execution_count": 33,
     "metadata": {},
     "output_type": "execute_result"
    }
   ],
   "source": [
    "date = '2021-1-04'\n",
    "now.get_value(date)"
   ]
  },
  {
   "cell_type": "markdown",
   "id": "defined-underground",
   "metadata": {},
   "source": [
    "Let's take a look at the profits that are made from this investment strategy."
   ]
  },
  {
   "cell_type": "code",
   "execution_count": 34,
   "id": "behind-portugal",
   "metadata": {},
   "outputs": [
    {
     "data": {
      "text/html": [
       "<div>\n",
       "<style scoped>\n",
       "    .dataframe tbody tr th:only-of-type {\n",
       "        vertical-align: middle;\n",
       "    }\n",
       "\n",
       "    .dataframe tbody tr th {\n",
       "        vertical-align: top;\n",
       "    }\n",
       "\n",
       "    .dataframe thead th {\n",
       "        text-align: right;\n",
       "    }\n",
       "</style>\n",
       "<table border=\"1\" class=\"dataframe\">\n",
       "  <thead>\n",
       "    <tr style=\"text-align: right;\">\n",
       "      <th></th>\n",
       "      <th>Date</th>\n",
       "      <th>Profits</th>\n",
       "    </tr>\n",
       "  </thead>\n",
       "  <tbody>\n",
       "    <tr>\n",
       "      <th>0</th>\n",
       "      <td>2001-06-15</td>\n",
       "      <td>0.0049</td>\n",
       "    </tr>\n",
       "    <tr>\n",
       "      <th>1</th>\n",
       "      <td>2001-06-29</td>\n",
       "      <td>86.1349</td>\n",
       "    </tr>\n",
       "    <tr>\n",
       "      <th>2</th>\n",
       "      <td>2001-07-31</td>\n",
       "      <td>-9.0951</td>\n",
       "    </tr>\n",
       "    <tr>\n",
       "      <th>3</th>\n",
       "      <td>2001-08-31</td>\n",
       "      <td>-368.6151</td>\n",
       "    </tr>\n",
       "    <tr>\n",
       "      <th>4</th>\n",
       "      <td>2001-09-28</td>\n",
       "      <td>-912.7151</td>\n",
       "    </tr>\n",
       "    <tr>\n",
       "      <th>...</th>\n",
       "      <td>...</td>\n",
       "      <td>...</td>\n",
       "    </tr>\n",
       "    <tr>\n",
       "      <th>233</th>\n",
       "      <td>2020-10-30</td>\n",
       "      <td>164853.3100</td>\n",
       "    </tr>\n",
       "    <tr>\n",
       "      <th>234</th>\n",
       "      <td>2020-11-30</td>\n",
       "      <td>197566.7600</td>\n",
       "    </tr>\n",
       "    <tr>\n",
       "      <th>235</th>\n",
       "      <td>2020-12-31</td>\n",
       "      <td>208943.8600</td>\n",
       "    </tr>\n",
       "    <tr>\n",
       "      <th>236</th>\n",
       "      <td>2021-01-29</td>\n",
       "      <td>213015.9102</td>\n",
       "    </tr>\n",
       "    <tr>\n",
       "      <th>237</th>\n",
       "      <td>2021-02-16</td>\n",
       "      <td>232154.4302</td>\n",
       "    </tr>\n",
       "  </tbody>\n",
       "</table>\n",
       "<p>238 rows × 2 columns</p>\n",
       "</div>"
      ],
      "text/plain": [
       "          Date      Profits\n",
       "0   2001-06-15       0.0049\n",
       "1   2001-06-29      86.1349\n",
       "2   2001-07-31      -9.0951\n",
       "3   2001-08-31    -368.6151\n",
       "4   2001-09-28    -912.7151\n",
       "..         ...          ...\n",
       "233 2020-10-30  164853.3100\n",
       "234 2020-11-30  197566.7600\n",
       "235 2020-12-31  208943.8600\n",
       "236 2021-01-29  213015.9102\n",
       "237 2021-02-16  232154.4302\n",
       "\n",
       "[238 rows x 2 columns]"
      ]
     },
     "execution_count": 34,
     "metadata": {},
     "output_type": "execute_result"
    }
   ],
   "source": [
    "now.profits"
   ]
  },
  {
   "cell_type": "code",
   "execution_count": 35,
   "id": "dietary-bikini",
   "metadata": {},
   "outputs": [
    {
     "data": {
      "image/png": "[encoded data removed]",
      "text/plain": [
       "<Figure size 1152x432 with 1 Axes>"
      ]
     },
     "metadata": {},
     "output_type": "display_data"
    }
   ],
   "source": [
    "plt.figure(figsize=(16, 6))\n",
    "g = sns.lineplot(x='Date', y='Profits', data=now.profits)\n",
    "plt.xticks([datetime.datetime(year=x, month=1, day=1) for x in range(2001, 2023)], rotation=45)\n",
    "g.set_xticklabels(list(range(2001, 2023)))\n",
    "g.set_xlabel('Year')\n",
    "g.set_ylabel('Profit')\n",
    "g.set_title('Profits Made Per Month From Investments Using Now strategy');"
   ]
  },
  {
   "cell_type": "markdown",
   "id": "daily-bulgarian",
   "metadata": {},
   "source": [
    "This shows the money made from dividends"
   ]
  },
  {
   "cell_type": "code",
   "execution_count": 36,
   "id": "american-official",
   "metadata": {},
   "outputs": [
    {
     "data": {
      "text/html": [
       "<div>\n",
       "<style scoped>\n",
       "    .dataframe tbody tr th:only-of-type {\n",
       "        vertical-align: middle;\n",
       "    }\n",
       "\n",
       "    .dataframe tbody tr th {\n",
       "        vertical-align: top;\n",
       "    }\n",
       "\n",
       "    .dataframe thead th {\n",
       "        text-align: right;\n",
       "    }\n",
       "</style>\n",
       "<table border=\"1\" class=\"dataframe\">\n",
       "  <thead>\n",
       "    <tr style=\"text-align: right;\">\n",
       "      <th></th>\n",
       "      <th>Date</th>\n",
       "      <th>Dividend Disbursement</th>\n",
       "      <th>Total Dividends</th>\n",
       "    </tr>\n",
       "  </thead>\n",
       "  <tbody>\n",
       "    <tr>\n",
       "      <th>0</th>\n",
       "      <td>2001-06-25</td>\n",
       "      <td>14.9800</td>\n",
       "      <td>14.9800</td>\n",
       "    </tr>\n",
       "    <tr>\n",
       "      <th>1</th>\n",
       "      <td>2001-09-24</td>\n",
       "      <td>16.8525</td>\n",
       "      <td>31.8325</td>\n",
       "    </tr>\n",
       "    <tr>\n",
       "      <th>2</th>\n",
       "      <td>2001-12-24</td>\n",
       "      <td>21.0255</td>\n",
       "      <td>52.8580</td>\n",
       "    </tr>\n",
       "    <tr>\n",
       "      <th>3</th>\n",
       "      <td>2002-03-25</td>\n",
       "      <td>32.8500</td>\n",
       "      <td>85.7080</td>\n",
       "    </tr>\n",
       "    <tr>\n",
       "      <th>4</th>\n",
       "      <td>2002-06-24</td>\n",
       "      <td>28.4700</td>\n",
       "      <td>114.1780</td>\n",
       "    </tr>\n",
       "    <tr>\n",
       "      <th>...</th>\n",
       "      <td>...</td>\n",
       "      <td>...</td>\n",
       "      <td>...</td>\n",
       "    </tr>\n",
       "    <tr>\n",
       "      <th>74</th>\n",
       "      <td>2019-12-24</td>\n",
       "      <td>1462.7860</td>\n",
       "      <td>33787.2705</td>\n",
       "    </tr>\n",
       "    <tr>\n",
       "      <th>75</th>\n",
       "      <td>2020-03-26</td>\n",
       "      <td>1036.4320</td>\n",
       "      <td>34823.7025</td>\n",
       "    </tr>\n",
       "    <tr>\n",
       "      <th>76</th>\n",
       "      <td>2020-06-25</td>\n",
       "      <td>1181.6000</td>\n",
       "      <td>36005.3025</td>\n",
       "    </tr>\n",
       "    <tr>\n",
       "      <th>77</th>\n",
       "      <td>2020-09-25</td>\n",
       "      <td>1137.7120</td>\n",
       "      <td>37143.0145</td>\n",
       "    </tr>\n",
       "    <tr>\n",
       "      <th>78</th>\n",
       "      <td>2020-12-24</td>\n",
       "      <td>1320.0160</td>\n",
       "      <td>38463.0305</td>\n",
       "    </tr>\n",
       "  </tbody>\n",
       "</table>\n",
       "<p>79 rows × 3 columns</p>\n",
       "</div>"
      ],
      "text/plain": [
       "         Date  Dividend Disbursement  Total Dividends\n",
       "0  2001-06-25                14.9800          14.9800\n",
       "1  2001-09-24                16.8525          31.8325\n",
       "2  2001-12-24                21.0255          52.8580\n",
       "3  2002-03-25                32.8500          85.7080\n",
       "4  2002-06-24                28.4700         114.1780\n",
       "..        ...                    ...              ...\n",
       "74 2019-12-24              1462.7860       33787.2705\n",
       "75 2020-03-26              1036.4320       34823.7025\n",
       "76 2020-06-25              1181.6000       36005.3025\n",
       "77 2020-09-25              1137.7120       37143.0145\n",
       "78 2020-12-24              1320.0160       38463.0305\n",
       "\n",
       "[79 rows x 3 columns]"
      ]
     },
     "execution_count": 36,
     "metadata": {},
     "output_type": "execute_result"
    }
   ],
   "source": [
    "now.dividends"
   ]
  },
  {
   "cell_type": "code",
   "execution_count": 37,
   "id": "planned-optics",
   "metadata": {},
   "outputs": [
    {
     "data": {
      "image/png": "[encoded data removed]",
      "text/plain": [
       "<Figure size 1152x432 with 1 Axes>"
      ]
     },
     "metadata": {},
     "output_type": "display_data"
    }
   ],
   "source": [
    "plt.figure(figsize=(16, 6))\n",
    "g = sns.lineplot(x='Date', y='Total Dividends', data=now.dividends)\n",
    "plt.xticks([datetime.datetime(year=x, month=1, day=1) for x in range(2001, 2023)], rotation=45)\n",
    "g.set_xticklabels(list(range(2001, 2023)))\n",
    "g.set_xlabel('Year')\n",
    "g.set_ylabel('Dividends')\n",
    "g.set_title('Profits Made Per Month From Dividends Using Now strategy');"
   ]
  },
  {
   "cell_type": "markdown",
   "id": "affected-swimming",
   "metadata": {},
   "source": [
    "Here, we overlay the profits made from investments and dividends"
   ]
  },
  {
   "cell_type": "code",
   "execution_count": 38,
   "id": "imperial-february",
   "metadata": {},
   "outputs": [
    {
     "data": {
      "text/html": [
       "<div>\n",
       "<style scoped>\n",
       "    .dataframe tbody tr th:only-of-type {\n",
       "        vertical-align: middle;\n",
       "    }\n",
       "\n",
       "    .dataframe tbody tr th {\n",
       "        vertical-align: top;\n",
       "    }\n",
       "\n",
       "    .dataframe thead th {\n",
       "        text-align: right;\n",
       "    }\n",
       "</style>\n",
       "<table border=\"1\" class=\"dataframe\">\n",
       "  <thead>\n",
       "    <tr style=\"text-align: right;\">\n",
       "      <th></th>\n",
       "      <th>Date</th>\n",
       "      <th>Profits</th>\n",
       "      <th>Dividend Disbursement</th>\n",
       "      <th>Total Dividends</th>\n",
       "      <th>Total Profits</th>\n",
       "    </tr>\n",
       "  </thead>\n",
       "  <tbody>\n",
       "    <tr>\n",
       "      <th>0</th>\n",
       "      <td>2001-06-15</td>\n",
       "      <td>0.0049</td>\n",
       "      <td>NaN</td>\n",
       "      <td>NaN</td>\n",
       "      <td>NaN</td>\n",
       "    </tr>\n",
       "    <tr>\n",
       "      <th>1</th>\n",
       "      <td>2001-06-25</td>\n",
       "      <td>0.0049</td>\n",
       "      <td>14.980</td>\n",
       "      <td>14.9800</td>\n",
       "      <td>14.9849</td>\n",
       "    </tr>\n",
       "    <tr>\n",
       "      <th>2</th>\n",
       "      <td>2001-06-29</td>\n",
       "      <td>86.1349</td>\n",
       "      <td>14.980</td>\n",
       "      <td>14.9800</td>\n",
       "      <td>101.1149</td>\n",
       "    </tr>\n",
       "    <tr>\n",
       "      <th>3</th>\n",
       "      <td>2001-07-31</td>\n",
       "      <td>-9.0951</td>\n",
       "      <td>14.980</td>\n",
       "      <td>14.9800</td>\n",
       "      <td>5.8849</td>\n",
       "    </tr>\n",
       "    <tr>\n",
       "      <th>4</th>\n",
       "      <td>2001-08-31</td>\n",
       "      <td>-368.6151</td>\n",
       "      <td>14.980</td>\n",
       "      <td>14.9800</td>\n",
       "      <td>-353.6351</td>\n",
       "    </tr>\n",
       "    <tr>\n",
       "      <th>...</th>\n",
       "      <td>...</td>\n",
       "      <td>...</td>\n",
       "      <td>...</td>\n",
       "      <td>...</td>\n",
       "      <td>...</td>\n",
       "    </tr>\n",
       "    <tr>\n",
       "      <th>309</th>\n",
       "      <td>2020-11-30</td>\n",
       "      <td>197566.7600</td>\n",
       "      <td>1137.712</td>\n",
       "      <td>37143.0145</td>\n",
       "      <td>234709.7745</td>\n",
       "    </tr>\n",
       "    <tr>\n",
       "      <th>310</th>\n",
       "      <td>2020-12-24</td>\n",
       "      <td>197566.7600</td>\n",
       "      <td>1320.016</td>\n",
       "      <td>38463.0305</td>\n",
       "      <td>236029.7905</td>\n",
       "    </tr>\n",
       "    <tr>\n",
       "      <th>311</th>\n",
       "      <td>2020-12-31</td>\n",
       "      <td>208943.8600</td>\n",
       "      <td>1320.016</td>\n",
       "      <td>38463.0305</td>\n",
       "      <td>247406.8905</td>\n",
       "    </tr>\n",
       "    <tr>\n",
       "      <th>312</th>\n",
       "      <td>2021-01-29</td>\n",
       "      <td>213015.9102</td>\n",
       "      <td>1320.016</td>\n",
       "      <td>38463.0305</td>\n",
       "      <td>251478.9407</td>\n",
       "    </tr>\n",
       "    <tr>\n",
       "      <th>313</th>\n",
       "      <td>2021-02-16</td>\n",
       "      <td>232154.4302</td>\n",
       "      <td>1320.016</td>\n",
       "      <td>38463.0305</td>\n",
       "      <td>270617.4607</td>\n",
       "    </tr>\n",
       "  </tbody>\n",
       "</table>\n",
       "<p>314 rows × 5 columns</p>\n",
       "</div>"
      ],
      "text/plain": [
       "          Date      Profits  Dividend Disbursement  Total Dividends  \\\n",
       "0   2001-06-15       0.0049                    NaN              NaN   \n",
       "1   2001-06-25       0.0049                 14.980          14.9800   \n",
       "2   2001-06-29      86.1349                 14.980          14.9800   \n",
       "3   2001-07-31      -9.0951                 14.980          14.9800   \n",
       "4   2001-08-31    -368.6151                 14.980          14.9800   \n",
       "..         ...          ...                    ...              ...   \n",
       "309 2020-11-30  197566.7600               1137.712       37143.0145   \n",
       "310 2020-12-24  197566.7600               1320.016       38463.0305   \n",
       "311 2020-12-31  208943.8600               1320.016       38463.0305   \n",
       "312 2021-01-29  213015.9102               1320.016       38463.0305   \n",
       "313 2021-02-16  232154.4302               1320.016       38463.0305   \n",
       "\n",
       "     Total Profits  \n",
       "0              NaN  \n",
       "1          14.9849  \n",
       "2         101.1149  \n",
       "3           5.8849  \n",
       "4        -353.6351  \n",
       "..             ...  \n",
       "309    234709.7745  \n",
       "310    236029.7905  \n",
       "311    247406.8905  \n",
       "312    251478.9407  \n",
       "313    270617.4607  \n",
       "\n",
       "[314 rows x 5 columns]"
      ]
     },
     "execution_count": 38,
     "metadata": {},
     "output_type": "execute_result"
    }
   ],
   "source": [
    "now_merged = now.profits.merge(now.dividends, how='outer', on='Date').sort_values('Date').reset_index(drop=True)\n",
    "now_merged = now_merged.fillna(method='pad')\n",
    "now_merged['Total Profits'] = now_merged['Profits'] + now_merged['Total Dividends']\n",
    "now_merged"
   ]
  },
  {
   "cell_type": "code",
   "execution_count": 39,
   "id": "sporting-asset",
   "metadata": {},
   "outputs": [
    {
     "data": {
      "image/png": "[encoded data removed]",
      "text/plain": [
       "<Figure size 432x288 with 1 Axes>"
      ]
     },
     "metadata": {},
     "output_type": "display_data"
    }
   ],
   "source": [
    "x = now_merged['Date']\n",
    "y1 = now_merged['Profits']\n",
    "y2 = now_merged['Total Dividends']\n",
    "\n",
    "y = np.vstack([y1, y2])\n",
    "\n",
    "labels = [\"Profits\", \"Total Dividends\"]\n",
    "\n",
    "fig, ax = plt.subplots()\n",
    "ax.stackplot(x, y, labels=labels)\n",
    "ax.legend(loc='upper left')\n",
    "plt.title('Total Profits Made Per Month Using Now strategy')\n",
    "plt.xticks([datetime.datetime(year=x, month=1, day=1) for x in range(2001, 2023)], rotation=45)\n",
    "ax.set_xticklabels((list(range(2001, 2023))))\n",
    "ax.set_xlabel('Year')\n",
    "ax.set_ylabel('Total Profits')\n",
    "plt.show()"
   ]
  },
  {
   "cell_type": "markdown",
   "id": "civic-director",
   "metadata": {},
   "source": [
    "## Dollar Cost Averaging (Average) Type Investor\n",
    "Not to be confused with \"the average, everyday investor\", this investor portions out their money over year and buys shares at beginning of each month (Dollar Cost Averaging)"
   ]
  },
  {
   "cell_type": "code",
   "execution_count": 40,
   "id": "offensive-manual",
   "metadata": {},
   "outputs": [],
   "source": [
    "avg = Average(vti, vti_div)\n",
    "avg.execute_strategy(2001, 2021)"
   ]
  },
  {
   "cell_type": "markdown",
   "id": "musical-space",
   "metadata": {},
   "source": [
    "This is the leftover uninvested cash by the end of strategy execution"
   ]
  },
  {
   "cell_type": "code",
   "execution_count": 41,
   "id": "local-advertising",
   "metadata": {},
   "outputs": [
    {
     "data": {
      "text/plain": [
       "146.75"
      ]
     },
     "execution_count": 41,
     "metadata": {},
     "output_type": "execute_result"
    }
   ],
   "source": [
    "round(avg.cash, 2)"
   ]
  },
  {
   "cell_type": "markdown",
   "id": "local-analyst",
   "metadata": {},
   "source": [
    "This is the investor's portfolio by the end of the strategy execution"
   ]
  },
  {
   "cell_type": "code",
   "execution_count": 42,
   "id": "latest-uzbekistan",
   "metadata": {},
   "outputs": [
    {
     "data": {
      "text/html": [
       "<div>\n",
       "<style scoped>\n",
       "    .dataframe tbody tr th:only-of-type {\n",
       "        vertical-align: middle;\n",
       "    }\n",
       "\n",
       "    .dataframe tbody tr th {\n",
       "        vertical-align: top;\n",
       "    }\n",
       "\n",
       "    .dataframe thead th {\n",
       "        text-align: right;\n",
       "    }\n",
       "</style>\n",
       "<table border=\"1\" class=\"dataframe\">\n",
       "  <thead>\n",
       "    <tr style=\"text-align: right;\">\n",
       "      <th></th>\n",
       "      <th>Date</th>\n",
       "      <th>Purchase Price</th>\n",
       "    </tr>\n",
       "  </thead>\n",
       "  <tbody>\n",
       "    <tr>\n",
       "      <th>0</th>\n",
       "      <td>2001-06-15</td>\n",
       "      <td>56.005</td>\n",
       "    </tr>\n",
       "    <tr>\n",
       "      <th>1</th>\n",
       "      <td>2001-06-15</td>\n",
       "      <td>56.005</td>\n",
       "    </tr>\n",
       "    <tr>\n",
       "      <th>2</th>\n",
       "      <td>2001-06-15</td>\n",
       "      <td>56.005</td>\n",
       "    </tr>\n",
       "    <tr>\n",
       "      <th>3</th>\n",
       "      <td>2001-06-15</td>\n",
       "      <td>56.005</td>\n",
       "    </tr>\n",
       "    <tr>\n",
       "      <th>4</th>\n",
       "      <td>2001-06-15</td>\n",
       "      <td>56.005</td>\n",
       "    </tr>\n",
       "    <tr>\n",
       "      <th>...</th>\n",
       "      <td>...</td>\n",
       "      <td>...</td>\n",
       "    </tr>\n",
       "    <tr>\n",
       "      <th>1694</th>\n",
       "      <td>2021-02-16</td>\n",
       "      <td>208.390</td>\n",
       "    </tr>\n",
       "    <tr>\n",
       "      <th>1695</th>\n",
       "      <td>2021-02-16</td>\n",
       "      <td>208.390</td>\n",
       "    </tr>\n",
       "    <tr>\n",
       "      <th>1696</th>\n",
       "      <td>2021-02-16</td>\n",
       "      <td>208.390</td>\n",
       "    </tr>\n",
       "    <tr>\n",
       "      <th>1697</th>\n",
       "      <td>2021-02-16</td>\n",
       "      <td>208.390</td>\n",
       "    </tr>\n",
       "    <tr>\n",
       "      <th>1698</th>\n",
       "      <td>2021-02-16</td>\n",
       "      <td>208.390</td>\n",
       "    </tr>\n",
       "  </tbody>\n",
       "</table>\n",
       "<p>1699 rows × 2 columns</p>\n",
       "</div>"
      ],
      "text/plain": [
       "           Date  Purchase Price\n",
       "0    2001-06-15          56.005\n",
       "1    2001-06-15          56.005\n",
       "2    2001-06-15          56.005\n",
       "3    2001-06-15          56.005\n",
       "4    2001-06-15          56.005\n",
       "...         ...             ...\n",
       "1694 2021-02-16         208.390\n",
       "1695 2021-02-16         208.390\n",
       "1696 2021-02-16         208.390\n",
       "1697 2021-02-16         208.390\n",
       "1698 2021-02-16         208.390\n",
       "\n",
       "[1699 rows x 2 columns]"
      ]
     },
     "execution_count": 42,
     "metadata": {},
     "output_type": "execute_result"
    }
   ],
   "source": [
    "avg.portfolio"
   ]
  },
  {
   "cell_type": "markdown",
   "id": "metric-sussex",
   "metadata": {},
   "source": [
    "This is how much money the investor spent on buying the stocks"
   ]
  },
  {
   "cell_type": "code",
   "execution_count": 43,
   "id": "alternate-kruger",
   "metadata": {},
   "outputs": [
    {
     "data": {
      "text/plain": [
       "125853.25"
      ]
     },
     "execution_count": 43,
     "metadata": {},
     "output_type": "execute_result"
    }
   ],
   "source": [
    "avg.get_invested()"
   ]
  },
  {
   "cell_type": "markdown",
   "id": "meaning-consultancy",
   "metadata": {},
   "source": [
    "This is how much money the investments are worth if we are to sell at the given date"
   ]
  },
  {
   "cell_type": "code",
   "execution_count": 44,
   "id": "continuing-kitchen",
   "metadata": {
    "scrolled": true
   },
   "outputs": [
    {
     "data": {
      "text/plain": [
       "354054.61"
      ]
     },
     "execution_count": 44,
     "metadata": {},
     "output_type": "execute_result"
    }
   ],
   "source": [
    "avg.get_value()"
   ]
  },
  {
   "cell_type": "markdown",
   "id": "joint-biography",
   "metadata": {},
   "source": [
    "Let's take a look at the profits that are made from this investment strategy."
   ]
  },
  {
   "cell_type": "code",
   "execution_count": 45,
   "id": "broke-quarter",
   "metadata": {},
   "outputs": [
    {
     "data": {
      "text/html": [
       "<div>\n",
       "<style scoped>\n",
       "    .dataframe tbody tr th:only-of-type {\n",
       "        vertical-align: middle;\n",
       "    }\n",
       "\n",
       "    .dataframe tbody tr th {\n",
       "        vertical-align: top;\n",
       "    }\n",
       "\n",
       "    .dataframe thead th {\n",
       "        text-align: right;\n",
       "    }\n",
       "</style>\n",
       "<table border=\"1\" class=\"dataframe\">\n",
       "  <thead>\n",
       "    <tr style=\"text-align: right;\">\n",
       "      <th></th>\n",
       "      <th>Date</th>\n",
       "      <th>Profits</th>\n",
       "    </tr>\n",
       "  </thead>\n",
       "  <tbody>\n",
       "    <tr>\n",
       "      <th>0</th>\n",
       "      <td>2001-06-15</td>\n",
       "      <td>0.0049</td>\n",
       "    </tr>\n",
       "    <tr>\n",
       "      <th>1</th>\n",
       "      <td>2001-06-29</td>\n",
       "      <td>42.6649</td>\n",
       "    </tr>\n",
       "    <tr>\n",
       "      <th>2</th>\n",
       "      <td>2001-07-31</td>\n",
       "      <td>-13.9551</td>\n",
       "    </tr>\n",
       "    <tr>\n",
       "      <th>3</th>\n",
       "      <td>2001-08-31</td>\n",
       "      <td>-252.9651</td>\n",
       "    </tr>\n",
       "    <tr>\n",
       "      <th>4</th>\n",
       "      <td>2001-09-28</td>\n",
       "      <td>-664.0401</td>\n",
       "    </tr>\n",
       "    <tr>\n",
       "      <th>...</th>\n",
       "      <td>...</td>\n",
       "      <td>...</td>\n",
       "    </tr>\n",
       "    <tr>\n",
       "      <th>233</th>\n",
       "      <td>2020-10-30</td>\n",
       "      <td>161987.6399</td>\n",
       "    </tr>\n",
       "    <tr>\n",
       "      <th>234</th>\n",
       "      <td>2020-11-30</td>\n",
       "      <td>194310.3099</td>\n",
       "    </tr>\n",
       "    <tr>\n",
       "      <th>235</th>\n",
       "      <td>2020-12-31</td>\n",
       "      <td>205562.7499</td>\n",
       "    </tr>\n",
       "    <tr>\n",
       "      <th>236</th>\n",
       "      <td>2021-01-29</td>\n",
       "      <td>209542.8199</td>\n",
       "    </tr>\n",
       "    <tr>\n",
       "      <th>237</th>\n",
       "      <td>2021-02-16</td>\n",
       "      <td>228201.3599</td>\n",
       "    </tr>\n",
       "  </tbody>\n",
       "</table>\n",
       "<p>238 rows × 2 columns</p>\n",
       "</div>"
      ],
      "text/plain": [
       "          Date      Profits\n",
       "0   2001-06-15       0.0049\n",
       "1   2001-06-29      42.6649\n",
       "2   2001-07-31     -13.9551\n",
       "3   2001-08-31    -252.9651\n",
       "4   2001-09-28    -664.0401\n",
       "..         ...          ...\n",
       "233 2020-10-30  161987.6399\n",
       "234 2020-11-30  194310.3099\n",
       "235 2020-12-31  205562.7499\n",
       "236 2021-01-29  209542.8199\n",
       "237 2021-02-16  228201.3599\n",
       "\n",
       "[238 rows x 2 columns]"
      ]
     },
     "execution_count": 45,
     "metadata": {},
     "output_type": "execute_result"
    }
   ],
   "source": [
    "avg.profits"
   ]
  },
  {
   "cell_type": "code",
   "execution_count": 46,
   "id": "violent-school",
   "metadata": {},
   "outputs": [
    {
     "data": {
      "image/png": "[encoded data removed]",
      "text/plain": [
       "<Figure size 1152x432 with 1 Axes>"
      ]
     },
     "metadata": {},
     "output_type": "display_data"
    }
   ],
   "source": [
    "plt.figure(figsize=(16, 6))\n",
    "g = sns.lineplot(x='Date', y='Profits', data=avg.profits)\n",
    "plt.xticks([datetime.datetime(year=x, month=1, day=1) for x in range(2001, 2023)], rotation=45)\n",
    "g.set_xticklabels(list(range(2001, 2023)))\n",
    "g.set_xlabel('Year')\n",
    "g.set_ylabel('Profit')\n",
    "g.set_title('Profits Made Per Month From Investments');"
   ]
  },
  {
   "cell_type": "markdown",
   "id": "deadly-brief",
   "metadata": {},
   "source": [
    "This shows the money made from dividends"
   ]
  },
  {
   "cell_type": "code",
   "execution_count": 47,
   "id": "velvet-calcium",
   "metadata": {},
   "outputs": [
    {
     "data": {
      "text/html": [
       "<div>\n",
       "<style scoped>\n",
       "    .dataframe tbody tr th:only-of-type {\n",
       "        vertical-align: middle;\n",
       "    }\n",
       "\n",
       "    .dataframe tbody tr th {\n",
       "        vertical-align: top;\n",
       "    }\n",
       "\n",
       "    .dataframe thead th {\n",
       "        text-align: right;\n",
       "    }\n",
       "</style>\n",
       "<table border=\"1\" class=\"dataframe\">\n",
       "  <thead>\n",
       "    <tr style=\"text-align: right;\">\n",
       "      <th></th>\n",
       "      <th>Date</th>\n",
       "      <th>Dividend Disbursement</th>\n",
       "      <th>Total Dividends</th>\n",
       "    </tr>\n",
       "  </thead>\n",
       "  <tbody>\n",
       "    <tr>\n",
       "      <th>0</th>\n",
       "      <td>2001-06-25</td>\n",
       "      <td>7.4200</td>\n",
       "      <td>7.4200</td>\n",
       "    </tr>\n",
       "    <tr>\n",
       "      <th>1</th>\n",
       "      <td>2001-09-24</td>\n",
       "      <td>12.6000</td>\n",
       "      <td>20.0200</td>\n",
       "    </tr>\n",
       "    <tr>\n",
       "      <th>2</th>\n",
       "      <td>2001-12-24</td>\n",
       "      <td>21.8115</td>\n",
       "      <td>41.8315</td>\n",
       "    </tr>\n",
       "    <tr>\n",
       "      <th>3</th>\n",
       "      <td>2002-03-25</td>\n",
       "      <td>20.8500</td>\n",
       "      <td>62.6815</td>\n",
       "    </tr>\n",
       "    <tr>\n",
       "      <th>4</th>\n",
       "      <td>2002-06-24</td>\n",
       "      <td>21.8400</td>\n",
       "      <td>84.5215</td>\n",
       "    </tr>\n",
       "    <tr>\n",
       "      <th>...</th>\n",
       "      <td>...</td>\n",
       "      <td>...</td>\n",
       "      <td>...</td>\n",
       "    </tr>\n",
       "    <tr>\n",
       "      <th>74</th>\n",
       "      <td>2019-12-24</td>\n",
       "      <td>1446.8380</td>\n",
       "      <td>33052.3820</td>\n",
       "    </tr>\n",
       "    <tr>\n",
       "      <th>75</th>\n",
       "      <td>2020-03-26</td>\n",
       "      <td>1008.1880</td>\n",
       "      <td>34060.5700</td>\n",
       "    </tr>\n",
       "    <tr>\n",
       "      <th>76</th>\n",
       "      <td>2020-06-25</td>\n",
       "      <td>1157.1000</td>\n",
       "      <td>35217.6700</td>\n",
       "    </tr>\n",
       "    <tr>\n",
       "      <th>77</th>\n",
       "      <td>2020-09-25</td>\n",
       "      <td>1120.1880</td>\n",
       "      <td>36337.8580</td>\n",
       "    </tr>\n",
       "    <tr>\n",
       "      <th>78</th>\n",
       "      <td>2020-12-24</td>\n",
       "      <td>1305.9400</td>\n",
       "      <td>37643.7980</td>\n",
       "    </tr>\n",
       "  </tbody>\n",
       "</table>\n",
       "<p>79 rows × 3 columns</p>\n",
       "</div>"
      ],
      "text/plain": [
       "         Date  Dividend Disbursement  Total Dividends\n",
       "0  2001-06-25                 7.4200           7.4200\n",
       "1  2001-09-24                12.6000          20.0200\n",
       "2  2001-12-24                21.8115          41.8315\n",
       "3  2002-03-25                20.8500          62.6815\n",
       "4  2002-06-24                21.8400          84.5215\n",
       "..        ...                    ...              ...\n",
       "74 2019-12-24              1446.8380       33052.3820\n",
       "75 2020-03-26              1008.1880       34060.5700\n",
       "76 2020-06-25              1157.1000       35217.6700\n",
       "77 2020-09-25              1120.1880       36337.8580\n",
       "78 2020-12-24              1305.9400       37643.7980\n",
       "\n",
       "[79 rows x 3 columns]"
      ]
     },
     "execution_count": 47,
     "metadata": {},
     "output_type": "execute_result"
    }
   ],
   "source": [
    "avg.dividends"
   ]
  },
  {
   "cell_type": "code",
   "execution_count": 48,
   "id": "forward-rover",
   "metadata": {},
   "outputs": [
    {
     "data": {
      "image/png": "[encoded data removed]",
      "text/plain": [
       "<Figure size 1152x432 with 1 Axes>"
      ]
     },
     "metadata": {},
     "output_type": "display_data"
    }
   ],
   "source": [
    "plt.figure(figsize=(16, 6))\n",
    "g = sns.lineplot(x='Date', y='Total Dividends', data=avg.dividends)\n",
    "plt.xticks([datetime.datetime(year=x, month=1, day=1) for x in range(2001, 2023)], rotation=45)\n",
    "g.set_xticklabels(list(range(2001, 2023)))\n",
    "g.set_xlabel('Year')\n",
    "g.set_ylabel('Dividends')\n",
    "g.set_title('Profits Made Per Month From Dividends Using Average Strategy');"
   ]
  },
  {
   "cell_type": "markdown",
   "id": "cutting-treat",
   "metadata": {},
   "source": [
    "Here, we overlay the profits made from investments and dividends"
   ]
  },
  {
   "cell_type": "code",
   "execution_count": 49,
   "id": "infinite-ending",
   "metadata": {},
   "outputs": [
    {
     "data": {
      "text/html": [
       "<div>\n",
       "<style scoped>\n",
       "    .dataframe tbody tr th:only-of-type {\n",
       "        vertical-align: middle;\n",
       "    }\n",
       "\n",
       "    .dataframe tbody tr th {\n",
       "        vertical-align: top;\n",
       "    }\n",
       "\n",
       "    .dataframe thead th {\n",
       "        text-align: right;\n",
       "    }\n",
       "</style>\n",
       "<table border=\"1\" class=\"dataframe\">\n",
       "  <thead>\n",
       "    <tr style=\"text-align: right;\">\n",
       "      <th></th>\n",
       "      <th>Date</th>\n",
       "      <th>Profits</th>\n",
       "      <th>Dividend Disbursement</th>\n",
       "      <th>Total Dividends</th>\n",
       "      <th>Total Profits</th>\n",
       "    </tr>\n",
       "  </thead>\n",
       "  <tbody>\n",
       "    <tr>\n",
       "      <th>0</th>\n",
       "      <td>2001-06-15</td>\n",
       "      <td>0.0049</td>\n",
       "      <td>NaN</td>\n",
       "      <td>NaN</td>\n",
       "      <td>NaN</td>\n",
       "    </tr>\n",
       "    <tr>\n",
       "      <th>1</th>\n",
       "      <td>2001-06-25</td>\n",
       "      <td>0.0049</td>\n",
       "      <td>7.420</td>\n",
       "      <td>7.420</td>\n",
       "      <td>7.4249</td>\n",
       "    </tr>\n",
       "    <tr>\n",
       "      <th>2</th>\n",
       "      <td>2001-06-29</td>\n",
       "      <td>42.6649</td>\n",
       "      <td>7.420</td>\n",
       "      <td>7.420</td>\n",
       "      <td>50.0849</td>\n",
       "    </tr>\n",
       "    <tr>\n",
       "      <th>3</th>\n",
       "      <td>2001-07-31</td>\n",
       "      <td>-13.9551</td>\n",
       "      <td>7.420</td>\n",
       "      <td>7.420</td>\n",
       "      <td>-6.5351</td>\n",
       "    </tr>\n",
       "    <tr>\n",
       "      <th>4</th>\n",
       "      <td>2001-08-31</td>\n",
       "      <td>-252.9651</td>\n",
       "      <td>7.420</td>\n",
       "      <td>7.420</td>\n",
       "      <td>-245.5451</td>\n",
       "    </tr>\n",
       "    <tr>\n",
       "      <th>...</th>\n",
       "      <td>...</td>\n",
       "      <td>...</td>\n",
       "      <td>...</td>\n",
       "      <td>...</td>\n",
       "      <td>...</td>\n",
       "    </tr>\n",
       "    <tr>\n",
       "      <th>309</th>\n",
       "      <td>2020-11-30</td>\n",
       "      <td>194310.3099</td>\n",
       "      <td>1120.188</td>\n",
       "      <td>36337.858</td>\n",
       "      <td>230648.1679</td>\n",
       "    </tr>\n",
       "    <tr>\n",
       "      <th>310</th>\n",
       "      <td>2020-12-24</td>\n",
       "      <td>194310.3099</td>\n",
       "      <td>1305.940</td>\n",
       "      <td>37643.798</td>\n",
       "      <td>231954.1079</td>\n",
       "    </tr>\n",
       "    <tr>\n",
       "      <th>311</th>\n",
       "      <td>2020-12-31</td>\n",
       "      <td>205562.7499</td>\n",
       "      <td>1305.940</td>\n",
       "      <td>37643.798</td>\n",
       "      <td>243206.5479</td>\n",
       "    </tr>\n",
       "    <tr>\n",
       "      <th>312</th>\n",
       "      <td>2021-01-29</td>\n",
       "      <td>209542.8199</td>\n",
       "      <td>1305.940</td>\n",
       "      <td>37643.798</td>\n",
       "      <td>247186.6179</td>\n",
       "    </tr>\n",
       "    <tr>\n",
       "      <th>313</th>\n",
       "      <td>2021-02-16</td>\n",
       "      <td>228201.3599</td>\n",
       "      <td>1305.940</td>\n",
       "      <td>37643.798</td>\n",
       "      <td>265845.1579</td>\n",
       "    </tr>\n",
       "  </tbody>\n",
       "</table>\n",
       "<p>314 rows × 5 columns</p>\n",
       "</div>"
      ],
      "text/plain": [
       "          Date      Profits  Dividend Disbursement  Total Dividends  \\\n",
       "0   2001-06-15       0.0049                    NaN              NaN   \n",
       "1   2001-06-25       0.0049                  7.420            7.420   \n",
       "2   2001-06-29      42.6649                  7.420            7.420   \n",
       "3   2001-07-31     -13.9551                  7.420            7.420   \n",
       "4   2001-08-31    -252.9651                  7.420            7.420   \n",
       "..         ...          ...                    ...              ...   \n",
       "309 2020-11-30  194310.3099               1120.188        36337.858   \n",
       "310 2020-12-24  194310.3099               1305.940        37643.798   \n",
       "311 2020-12-31  205562.7499               1305.940        37643.798   \n",
       "312 2021-01-29  209542.8199               1305.940        37643.798   \n",
       "313 2021-02-16  228201.3599               1305.940        37643.798   \n",
       "\n",
       "     Total Profits  \n",
       "0              NaN  \n",
       "1           7.4249  \n",
       "2          50.0849  \n",
       "3          -6.5351  \n",
       "4        -245.5451  \n",
       "..             ...  \n",
       "309    230648.1679  \n",
       "310    231954.1079  \n",
       "311    243206.5479  \n",
       "312    247186.6179  \n",
       "313    265845.1579  \n",
       "\n",
       "[314 rows x 5 columns]"
      ]
     },
     "execution_count": 49,
     "metadata": {},
     "output_type": "execute_result"
    }
   ],
   "source": [
    "avg_merged = avg.profits.merge(avg.dividends, how='outer', on='Date').sort_values('Date').reset_index(drop=True)\n",
    "avg_merged = avg_merged.fillna(method='pad')\n",
    "avg_merged['Total Profits'] = avg_merged['Profits'] + avg_merged['Total Dividends']\n",
    "avg_merged"
   ]
  },
  {
   "cell_type": "code",
   "execution_count": 50,
   "id": "defensive-experiment",
   "metadata": {},
   "outputs": [
    {
     "data": {
      "image/png": "[encoded data removed]",
      "text/plain": [
       "<Figure size 432x288 with 1 Axes>"
      ]
     },
     "metadata": {},
     "output_type": "display_data"
    }
   ],
   "source": [
    "x = avg_merged['Date']\n",
    "y1 = avg_merged['Profits']\n",
    "y2 = avg_merged['Total Dividends']\n",
    "\n",
    "y = np.vstack([y1, y2])\n",
    "\n",
    "labels = [\"Profits\", \"Total Dividends\"]\n",
    "\n",
    "fig, ax = plt.subplots()\n",
    "ax.stackplot(x, y, labels=labels)\n",
    "ax.legend(loc='upper left')\n",
    "plt.title('Total Profits Made Per Month Using Average Strategy')\n",
    "plt.xticks([datetime.datetime(year=x, month=1, day=1) for x in range(2001, 2023)], rotation=45)\n",
    "ax.set_xticklabels((list(range(2001, 2023))))\n",
    "ax.set_xlabel('Year')\n",
    "ax.set_ylabel('Total Profits')\n",
    "plt.show()"
   ]
  },
  {
   "cell_type": "markdown",
   "id": "clinical-michigan",
   "metadata": {},
   "source": [
    "# Putting it all together"
   ]
  },
  {
   "cell_type": "markdown",
   "id": "hungry-kingdom",
   "metadata": {},
   "source": [
    "Now that we've seen all of these strategies run separately, let's take a look at them side-by-side."
   ]
  },
  {
   "cell_type": "code",
   "execution_count": 51,
   "id": "asian-insert",
   "metadata": {},
   "outputs": [],
   "source": [
    "g_now = now_merged[['Date', 'Total Profits']]\n",
    "g_avg = avg_merged[['Date', 'Total Profits']]\n",
    "g_ideal = ideal_merged[['Date', 'Total Profits']]\n",
    "g_rand = rand_merged[['Date', 'Total Profits']]\n",
    "\n",
    "g_now['Strategy'] = 'Now'\n",
    "g_avg['Strategy'] = 'Average'\n",
    "g_ideal['Strategy'] = 'Ideal'\n",
    "g_rand['Strategy'] = 'Random'\n",
    "\n",
    "# Combining all the different strategies into one DataFrame\n",
    "g_all = pd.concat([g_now, g_avg, g_rand, g_ideal]).sort_values('Date').reset_index(drop=True)"
   ]
  },
  {
   "cell_type": "code",
   "execution_count": 52,
   "id": "possible-power",
   "metadata": {},
   "outputs": [
    {
     "data": {
      "image/png": "[encoded data removed]",
      "text/plain": [
       "<Figure size 1152x432 with 1 Axes>"
      ]
     },
     "metadata": {},
     "output_type": "display_data"
    }
   ],
   "source": [
    "plt.figure(figsize=(16, 6))\n",
    "g = sns.lineplot(data=g_all, x='Date', y='Total Profits', hue='Strategy', hue_order=['Average', 'Now', 'Random', 'Ideal'])\n",
    "g.set_xlabel('Year')\n",
    "g.set_ylabel('Total Profits')\n",
    "g.set_title('Profits Made Per Month');"
   ]
  },
  {
   "cell_type": "markdown",
   "id": "serial-crown",
   "metadata": {},
   "source": [
    "Since the Ideal investor is higher than the others, we can't see how the other strategies are doing. Obviously, the Ideal strategy will lead to a much higher profit, but it is not plausible to say that someone can be an ideal investor, unless they can predict the future. Let's remove it from the graphic so we can get a better look at what is happening among the other three strategies."
   ]
  },
  {
   "cell_type": "code",
   "execution_count": 53,
   "id": "bridal-month",
   "metadata": {},
   "outputs": [
    {
     "data": {
      "image/png": "[encoded data removed]",
      "text/plain": [
       "<Figure size 1152x432 with 1 Axes>"
      ]
     },
     "metadata": {},
     "output_type": "display_data"
    }
   ],
   "source": [
    "g_no_ideal = g_all[g_all['Strategy'] != 'Ideal']\n",
    "plt.figure(figsize=(16, 6))\n",
    "g = sns.lineplot(data=g_no_ideal, x='Date', y='Total Profits', hue='Strategy', hue_order=['Average', 'Now', 'Random'])\n",
    "g.set_xlabel('Year')\n",
    "g.set_ylabel('Total Profits')\n",
    "g.set_title('Profits Made Per Month');"
   ]
  },
  {
   "cell_type": "markdown",
   "id": "constant-nightlife",
   "metadata": {},
   "source": [
    "We can see from this graph that there is no huge difference in profits from the three investment strategies: Average, Now, and Random."
   ]
  },
  {
   "cell_type": "markdown",
   "id": "standard-arrow",
   "metadata": {},
   "source": [
    "We've seen the investment strategies compete against one another over time, but let's take a closer look at the differences at the end of the strategy execution."
   ]
  },
  {
   "cell_type": "code",
   "execution_count": 54,
   "id": "political-trunk",
   "metadata": {},
   "outputs": [
    {
     "data": {
      "image/png": "[encoded data removed]",
      "text/plain": [
       "<Figure size 360x360 with 1 Axes>"
      ]
     },
     "metadata": {},
     "output_type": "display_data"
    }
   ],
   "source": [
    "date = g_all['Date'][len(g_all)-1]\n",
    "g = sns.catplot(x='Strategy', y='Total Profits', data=g_all[g_all['Date'] == date], kind='bar')\n",
    "plt.title('Total Profits Made at the End of Strategy Execution');"
   ]
  },
  {
   "cell_type": "markdown",
   "id": "sorted-clarity",
   "metadata": {},
   "source": [
    "And here's the graph again without the Ideal investor."
   ]
  },
  {
   "cell_type": "code",
   "execution_count": 55,
   "id": "cardiovascular-salem",
   "metadata": {},
   "outputs": [
    {
     "data": {
      "image/png": "[encoded data removed]",
      "text/plain": [
       "<Figure size 360x360 with 1 Axes>"
      ]
     },
     "metadata": {},
     "output_type": "display_data"
    }
   ],
   "source": [
    "g = sns.catplot(x='Strategy', y='Total Profits', data=g_no_ideal[g_no_ideal['Date'] == date], kind='bar')\n",
    "plt.title('Total Profits Made at the End of Strategy Execution');"
   ]
  },
  {
   "cell_type": "markdown",
   "id": "sacred-wilson",
   "metadata": {},
   "source": [
    "By the end of strategy execution (January 2021), the Now strategy comes out on top, the Average strategy coming in second, and the Random strategy coming in third."
   ]
  },
  {
   "cell_type": "markdown",
   "id": "injured-craft",
   "metadata": {},
   "source": [
    "## Ranking Strategies by Total Profit for Each Year"
   ]
  },
  {
   "cell_type": "code",
   "execution_count": 56,
   "id": "russian-sapphire",
   "metadata": {},
   "outputs": [],
   "source": [
    "# Look at data for first month of each year\n",
    "yearly = g_all[(g_all['Date'].dt.month == 1)]\n",
    "\n",
    "# Assign ranks to highest total profits for each year\n",
    "yearly['Rank'] = yearly.groupby('Date').rank(ascending=False)\n",
    "yearly['Rank'] = yearly['Rank'].apply(lambda x: int(x))"
   ]
  },
  {
   "cell_type": "code",
   "execution_count": 57,
   "id": "civilian-faculty",
   "metadata": {},
   "outputs": [
    {
     "data": {
      "text/html": [
       "<div>\n",
       "<style scoped>\n",
       "    .dataframe tbody tr th:only-of-type {\n",
       "        vertical-align: middle;\n",
       "    }\n",
       "\n",
       "    .dataframe tbody tr th {\n",
       "        vertical-align: top;\n",
       "    }\n",
       "\n",
       "    .dataframe thead th {\n",
       "        text-align: right;\n",
       "    }\n",
       "</style>\n",
       "<table border=\"1\" class=\"dataframe\">\n",
       "  <thead>\n",
       "    <tr style=\"text-align: right;\">\n",
       "      <th>Strategy</th>\n",
       "      <th>Ideal</th>\n",
       "      <th>Average</th>\n",
       "      <th>Now</th>\n",
       "      <th>Random</th>\n",
       "    </tr>\n",
       "    <tr>\n",
       "      <th>Date</th>\n",
       "      <th></th>\n",
       "      <th></th>\n",
       "      <th></th>\n",
       "      <th></th>\n",
       "    </tr>\n",
       "  </thead>\n",
       "  <tbody>\n",
       "    <tr>\n",
       "      <th>2002-01-31</th>\n",
       "      <td>1</td>\n",
       "      <td>3</td>\n",
       "      <td>4</td>\n",
       "      <td>2</td>\n",
       "    </tr>\n",
       "    <tr>\n",
       "      <th>2003-01-31</th>\n",
       "      <td>1</td>\n",
       "      <td>3</td>\n",
       "      <td>4</td>\n",
       "      <td>2</td>\n",
       "    </tr>\n",
       "    <tr>\n",
       "      <th>2004-01-30</th>\n",
       "      <td>1</td>\n",
       "      <td>3</td>\n",
       "      <td>4</td>\n",
       "      <td>2</td>\n",
       "    </tr>\n",
       "    <tr>\n",
       "      <th>2005-01-31</th>\n",
       "      <td>1</td>\n",
       "      <td>3</td>\n",
       "      <td>4</td>\n",
       "      <td>2</td>\n",
       "    </tr>\n",
       "    <tr>\n",
       "      <th>2006-01-31</th>\n",
       "      <td>1</td>\n",
       "      <td>3</td>\n",
       "      <td>4</td>\n",
       "      <td>2</td>\n",
       "    </tr>\n",
       "    <tr>\n",
       "      <th>2007-01-31</th>\n",
       "      <td>1</td>\n",
       "      <td>3</td>\n",
       "      <td>4</td>\n",
       "      <td>2</td>\n",
       "    </tr>\n",
       "    <tr>\n",
       "      <th>2008-01-31</th>\n",
       "      <td>1</td>\n",
       "      <td>3</td>\n",
       "      <td>4</td>\n",
       "      <td>2</td>\n",
       "    </tr>\n",
       "    <tr>\n",
       "      <th>2009-01-30</th>\n",
       "      <td>1</td>\n",
       "      <td>3</td>\n",
       "      <td>4</td>\n",
       "      <td>2</td>\n",
       "    </tr>\n",
       "    <tr>\n",
       "      <th>2010-01-29</th>\n",
       "      <td>1</td>\n",
       "      <td>2</td>\n",
       "      <td>4</td>\n",
       "      <td>3</td>\n",
       "    </tr>\n",
       "    <tr>\n",
       "      <th>2011-01-31</th>\n",
       "      <td>1</td>\n",
       "      <td>2</td>\n",
       "      <td>3</td>\n",
       "      <td>4</td>\n",
       "    </tr>\n",
       "    <tr>\n",
       "      <th>2012-01-31</th>\n",
       "      <td>1</td>\n",
       "      <td>3</td>\n",
       "      <td>4</td>\n",
       "      <td>2</td>\n",
       "    </tr>\n",
       "    <tr>\n",
       "      <th>2013-01-31</th>\n",
       "      <td>1</td>\n",
       "      <td>4</td>\n",
       "      <td>3</td>\n",
       "      <td>2</td>\n",
       "    </tr>\n",
       "    <tr>\n",
       "      <th>2014-01-31</th>\n",
       "      <td>1</td>\n",
       "      <td>3</td>\n",
       "      <td>2</td>\n",
       "      <td>4</td>\n",
       "    </tr>\n",
       "    <tr>\n",
       "      <th>2015-01-30</th>\n",
       "      <td>1</td>\n",
       "      <td>3</td>\n",
       "      <td>2</td>\n",
       "      <td>4</td>\n",
       "    </tr>\n",
       "    <tr>\n",
       "      <th>2016-01-29</th>\n",
       "      <td>1</td>\n",
       "      <td>3</td>\n",
       "      <td>2</td>\n",
       "      <td>4</td>\n",
       "    </tr>\n",
       "    <tr>\n",
       "      <th>2017-01-31</th>\n",
       "      <td>1</td>\n",
       "      <td>3</td>\n",
       "      <td>2</td>\n",
       "      <td>4</td>\n",
       "    </tr>\n",
       "    <tr>\n",
       "      <th>2018-01-31</th>\n",
       "      <td>1</td>\n",
       "      <td>3</td>\n",
       "      <td>2</td>\n",
       "      <td>4</td>\n",
       "    </tr>\n",
       "    <tr>\n",
       "      <th>2019-01-31</th>\n",
       "      <td>1</td>\n",
       "      <td>3</td>\n",
       "      <td>2</td>\n",
       "      <td>4</td>\n",
       "    </tr>\n",
       "    <tr>\n",
       "      <th>2020-01-31</th>\n",
       "      <td>1</td>\n",
       "      <td>3</td>\n",
       "      <td>2</td>\n",
       "      <td>4</td>\n",
       "    </tr>\n",
       "    <tr>\n",
       "      <th>2021-01-29</th>\n",
       "      <td>1</td>\n",
       "      <td>3</td>\n",
       "      <td>2</td>\n",
       "      <td>4</td>\n",
       "    </tr>\n",
       "  </tbody>\n",
       "</table>\n",
       "</div>"
      ],
      "text/plain": [
       "Strategy    Ideal  Average  Now  Random\n",
       "Date                                   \n",
       "2002-01-31      1        3    4       2\n",
       "2003-01-31      1        3    4       2\n",
       "2004-01-30      1        3    4       2\n",
       "2005-01-31      1        3    4       2\n",
       "2006-01-31      1        3    4       2\n",
       "2007-01-31      1        3    4       2\n",
       "2008-01-31      1        3    4       2\n",
       "2009-01-30      1        3    4       2\n",
       "2010-01-29      1        2    4       3\n",
       "2011-01-31      1        2    3       4\n",
       "2012-01-31      1        3    4       2\n",
       "2013-01-31      1        4    3       2\n",
       "2014-01-31      1        3    2       4\n",
       "2015-01-30      1        3    2       4\n",
       "2016-01-29      1        3    2       4\n",
       "2017-01-31      1        3    2       4\n",
       "2018-01-31      1        3    2       4\n",
       "2019-01-31      1        3    2       4\n",
       "2020-01-31      1        3    2       4\n",
       "2021-01-29      1        3    2       4"
      ]
     },
     "execution_count": 57,
     "metadata": {},
     "output_type": "execute_result"
    }
   ],
   "source": [
    "rank = pd.pivot_table(yearly, values='Rank', index=['Date'], columns=['Strategy'])[['Ideal', 'Average', 'Now', 'Random']]\n",
    "rank"
   ]
  },
  {
   "cell_type": "code",
   "execution_count": 58,
   "id": "incorrect-ceramic",
   "metadata": {},
   "outputs": [
    {
     "data": {
      "text/html": [
       "<div>\n",
       "<style scoped>\n",
       "    .dataframe tbody tr th:only-of-type {\n",
       "        vertical-align: middle;\n",
       "    }\n",
       "\n",
       "    .dataframe tbody tr th {\n",
       "        vertical-align: top;\n",
       "    }\n",
       "\n",
       "    .dataframe thead th {\n",
       "        text-align: right;\n",
       "    }\n",
       "</style>\n",
       "<table border=\"1\" class=\"dataframe\">\n",
       "  <thead>\n",
       "    <tr style=\"text-align: right;\">\n",
       "      <th>Strategy</th>\n",
       "      <th>Ideal</th>\n",
       "      <th>Average</th>\n",
       "      <th>Now</th>\n",
       "      <th>Random</th>\n",
       "    </tr>\n",
       "  </thead>\n",
       "  <tbody>\n",
       "    <tr>\n",
       "      <th>count</th>\n",
       "      <td>20.0</td>\n",
       "      <td>20.000000</td>\n",
       "      <td>20.000000</td>\n",
       "      <td>20.000000</td>\n",
       "    </tr>\n",
       "    <tr>\n",
       "      <th>mean</th>\n",
       "      <td>1.0</td>\n",
       "      <td>2.950000</td>\n",
       "      <td>3.100000</td>\n",
       "      <td>2.950000</td>\n",
       "    </tr>\n",
       "    <tr>\n",
       "      <th>std</th>\n",
       "      <td>0.0</td>\n",
       "      <td>0.394034</td>\n",
       "      <td>0.967906</td>\n",
       "      <td>0.998683</td>\n",
       "    </tr>\n",
       "    <tr>\n",
       "      <th>min</th>\n",
       "      <td>1.0</td>\n",
       "      <td>2.000000</td>\n",
       "      <td>2.000000</td>\n",
       "      <td>2.000000</td>\n",
       "    </tr>\n",
       "    <tr>\n",
       "      <th>25%</th>\n",
       "      <td>1.0</td>\n",
       "      <td>3.000000</td>\n",
       "      <td>2.000000</td>\n",
       "      <td>2.000000</td>\n",
       "    </tr>\n",
       "    <tr>\n",
       "      <th>50%</th>\n",
       "      <td>1.0</td>\n",
       "      <td>3.000000</td>\n",
       "      <td>3.500000</td>\n",
       "      <td>2.500000</td>\n",
       "    </tr>\n",
       "    <tr>\n",
       "      <th>75%</th>\n",
       "      <td>1.0</td>\n",
       "      <td>3.000000</td>\n",
       "      <td>4.000000</td>\n",
       "      <td>4.000000</td>\n",
       "    </tr>\n",
       "    <tr>\n",
       "      <th>max</th>\n",
       "      <td>1.0</td>\n",
       "      <td>4.000000</td>\n",
       "      <td>4.000000</td>\n",
       "      <td>4.000000</td>\n",
       "    </tr>\n",
       "  </tbody>\n",
       "</table>\n",
       "</div>"
      ],
      "text/plain": [
       "Strategy  Ideal    Average        Now     Random\n",
       "count      20.0  20.000000  20.000000  20.000000\n",
       "mean        1.0   2.950000   3.100000   2.950000\n",
       "std         0.0   0.394034   0.967906   0.998683\n",
       "min         1.0   2.000000   2.000000   2.000000\n",
       "25%         1.0   3.000000   2.000000   2.000000\n",
       "50%         1.0   3.000000   3.500000   2.500000\n",
       "75%         1.0   3.000000   4.000000   4.000000\n",
       "max         1.0   4.000000   4.000000   4.000000"
      ]
     },
     "execution_count": 58,
     "metadata": {},
     "output_type": "execute_result"
    }
   ],
   "source": [
    "rank.describe()"
   ]
  },
  {
   "cell_type": "markdown",
   "id": "living-dating",
   "metadata": {},
   "source": [
    "In this data, we can look at the mean see that the Ideal investor is Rank 1 at the beginning of every year, every time.  The Average investor has a mean of Rank 2.55, Now investor having a mean of Rank 2.95, and Random investor coming in last with a mean of Rank 3.5.\n",
    "\n",
    "With this, it is obvious that everyone should go for the Ideal investor strategy and everyone should avoid the random strategy.\n",
    "\n",
    "Keep in mind that although the Average investor has a higher rank than the Now investor, it does not necessarily mean that the Average investment strategy is better. Taking a closer look at the rank DataFrame, the Average investor holds a consistent Rank 2 for the first decade, but eventually falls to Rank 3, losing to the Now investor in the second decade."
   ]
  },
  {
   "cell_type": "markdown",
   "id": "southern-livestock",
   "metadata": {},
   "source": [
    "# Conclusion"
   ]
  },
  {
   "cell_type": "markdown",
   "id": "banner-pixel",
   "metadata": {},
   "source": [
    "We have taken a look at four investment strategies: Random, Ideal, Now, and Average. From the barplot, we saw that at the end of strategy execution (January 2021), the Ideal investor came in first with a much higher profit than the three other investment strategies. Since it is almost impossible to predict the status of the stock market, the Ideal investment strategy should only be seen as a mode of comparison for the other three investment strategies. It was seen that among the three strategies, there is **little difference in profits.** If we want to care about the little differences, we saw that the Average investor has more years where it has more profits than the Now investor. In the long run, the Now investor surpasses the Average and Random investment strategies and comes out on top.\n",
    "\n",
    "With this, we can conclude that, aside from the Ideal investment strategy, the **Average** and **Now** investment strategies are equally more superior investment strategies, doing better than our base scenario of the Random investment strategy.\n",
    "\n",
    "If I were to recommend a strategy to a friend, I would say to go with the Now investment strategy if they have the money to do so. It takes less work to execute since they can just put the money in and forget about it. I personally believe that the minimal profit difference between the Now and Average investment strategies are not worth the extra work. If they don't have a huge amount of money to invest at the beginning of the year, then it is fine to go with the Average investment strategy."
   ]
  },
  {
   "cell_type": "markdown",
   "id": "temporal-situation",
   "metadata": {},
   "source": [
    "***Disclaimer***: I am not a financial advisor and am only making conclusions from real stock market data run on my simulations."
   ]
  },
  {
   "cell_type": "markdown",
   "id": "compliant-cologne",
   "metadata": {},
   "source": [
    "# Unit Tests"
   ]
  },
  {
   "cell_type": "code",
   "execution_count": 59,
   "id": "played-welsh",
   "metadata": {},
   "outputs": [],
   "source": [
    "vti = pd.read_csv('test/VTI.csv').sort_values('Date').reset_index(drop=True)\n",
    "vti_div = pd.read_csv('test/VTI_Dividends.csv').sort_values('Date').reset_index(drop=True)\n",
    "standardize_date = lambda string: datetime.datetime.strptime(string, '%Y-%m-%d')\n",
    "vti['Date'] = vti['Date'].apply(standardize_date)\n",
    "vti_div['Date'] = vti_div['Date'].apply(standardize_date)"
   ]
  },
  {
   "cell_type": "code",
   "execution_count": 60,
   "id": "protecting-greene",
   "metadata": {},
   "outputs": [],
   "source": [
    "test = Investor(vti, vti_div)\n",
    "assert test.cash == 0\n",
    "test.income()\n",
    "assert test.cash == test.salary"
   ]
  },
  {
   "cell_type": "code",
   "execution_count": 61,
   "id": "positive-korean",
   "metadata": {},
   "outputs": [],
   "source": [
    "assert test.create_date('2001-05-31') == datetime.datetime(year=2001, month=5, day=31)"
   ]
  },
  {
   "cell_type": "code",
   "execution_count": 62,
   "id": "julian-soccer",
   "metadata": {
    "scrolled": true
   },
   "outputs": [],
   "source": [
    "# Test before first forward\n",
    "test_row, test_date = test.get_nearest_date('2001-06-13')\n",
    "assert test_date == test.create_date('2001-06-15')\n",
    "# Test after last forward\n",
    "test_row, test_date = test.get_nearest_date('2021-02-17')\n",
    "assert test_date == test.create_date('2021-02-16')\n",
    "# Test before first reverse\n",
    "test_row, test_date = test.get_nearest_date('2001-06-13', True)\n",
    "assert test_date == test.create_date('2001-06-15')\n",
    "# Test after last reverse\n",
    "test_row, test_date = test.get_nearest_date('2021-02-17', True)\n",
    "assert test_date == test.create_date('2021-02-16')\n",
    "# Test forward\n",
    "test_row, test_date = test.get_nearest_date('2021-02-13')\n",
    "assert test_date == test.create_date('2021-02-16')\n",
    "# Test reverse\n",
    "test_row, test_date = test.get_nearest_date('2001-06-17', True)\n",
    "assert test_date == test.create_date('2001-06-15')"
   ]
  },
  {
   "cell_type": "code",
   "execution_count": 63,
   "id": "mighty-snapshot",
   "metadata": {},
   "outputs": [],
   "source": [
    "assert test.get_stock_price('2001-06-15') == 56.005001\n",
    "assert test.get_stock_price('2001-06-14') == 56.005001\n",
    "assert test.get_stock_price('2001-06-17') == 55.915001"
   ]
  },
  {
   "cell_type": "code",
   "execution_count": 64,
   "id": "united-pressure",
   "metadata": {},
   "outputs": [],
   "source": [
    "# Not enough money\n",
    "test.cash = 0\n",
    "assert not test.buy_stock('2001-06-15')\n",
    "# Enough money\n",
    "test.cash = 200\n",
    "assert test.buy_stock('2001-06-15')"
   ]
  },
  {
   "cell_type": "code",
   "execution_count": 65,
   "id": "demanding-mandate",
   "metadata": {},
   "outputs": [],
   "source": [
    "test = Investor(vti, vti_div)\n",
    "test.cash = 9999999\n",
    "for i in range(100):\n",
    "    test.buy_stock('2001-06-15')\n",
    "    test.buy_stock('2021-02-16')\n",
    "\n",
    "# All\n",
    "np.testing.assert_almost_equal(test.get_invested(), 56.005001*100 + 208.389999*100)\n",
    "# Before specific date\n",
    "np.testing.assert_almost_equal(test.get_invested('2002-01-01'), 56.005001*100)"
   ]
  },
  {
   "cell_type": "code",
   "execution_count": 66,
   "id": "temporal-professor",
   "metadata": {
    "scrolled": true
   },
   "outputs": [],
   "source": [
    "test = Investor(vti, vti_div)\n",
    "test.cash = 9999999\n",
    "for i in range(100):\n",
    "    test.buy_stock('2001-06-15')\n",
    "    test.buy_stock('2021-02-16')\n",
    "\n",
    "# All\n",
    "np.testing.assert_almost_equal(test.get_value(), 200*208.39)\n",
    "# Before specific date\n",
    "np.testing.assert_almost_equal(test.get_value('2001-06-21'), 56.725*100)"
   ]
  },
  {
   "cell_type": "code",
   "execution_count": 67,
   "id": "protecting-toronto",
   "metadata": {},
   "outputs": [],
   "source": [
    "test = Investor(vti, vti_div)\n",
    "test.cash = 9999999\n",
    "for i in range(100):\n",
    "    test.buy_stock('2001-06-15')\n",
    "\n",
    "test.find_profits(2001)\n",
    "np.testing.assert_almost_equal(test.profits[test.profits['Date'] == '2001-06-15']['Profits'].values[0], 0, decimal=3)\n",
    "\n",
    "np.testing.assert_almost_equal(test.profits[test.profits['Date'] == '2001-06-29']['Profits'].values[0], (56.81-56.005)*100, decimal=3)"
   ]
  },
  {
   "cell_type": "code",
   "execution_count": 68,
   "id": "italian-agent",
   "metadata": {},
   "outputs": [],
   "source": [
    "# 10 stocks same date\n",
    "\n",
    "test = Investor(vti, vti_div)\n",
    "test.cash = 999999\n",
    "\n",
    "for i in range(10):\n",
    "    test.buy_stock('2001-06-15')\n",
    "test.find_dividends()\n",
    "\n",
    "assert test.dividends['Dividend Disbursement'][0] == 10*vti_div['Dividends'][0]\n",
    "assert test.dividends['Dividend Disbursement'][1] == 10*vti_div['Dividends'][1]\n",
    "assert test.dividends['Total Dividends'][1] == test.dividends['Dividend Disbursement'][0] + test.dividends['Dividend Disbursement'][1]\n",
    "assert test.dividends['Dividend Disbursement'][len(test.dividends)-1] == 10*vti_div['Dividends'][len(vti_div)-1]"
   ]
  },
  {
   "cell_type": "code",
   "execution_count": 69,
   "id": "entertaining-intensity",
   "metadata": {},
   "outputs": [],
   "source": [
    "# 10 stocks each different dates\n",
    "test = Investor(vti, vti_div)\n",
    "test.cash = 999999\n",
    "\n",
    "for i in range(10):\n",
    "    test.buy_stock('2001-06-15')\n",
    "    test.buy_stock('2001-09-21')\n",
    "test.find_dividends()\n",
    "test.dividends\n",
    "\n",
    "assert test.dividends['Dividend Disbursement'][0] == 10*vti_div['Dividends'][0]\n",
    "assert test.dividends['Dividend Disbursement'][1] == 20*vti_div['Dividends'][1]\n",
    "assert test.dividends['Total Dividends'][1] == test.dividends['Dividend Disbursement'][0] + test.dividends['Dividend Disbursement'][1]\n",
    "assert test.dividends['Dividend Disbursement'][len(test.dividends)-1] == 20*vti_div['Dividends'][len(vti_div)-1]"
   ]
  }
 ],
 "metadata": {
  "kernelspec": {
   "display_name": "Python 3",
   "language": "python",
   "name": "python3"
  },
  "language_info": {
   "codemirror_mode": {
    "name": "ipython",
    "version": 3
   },
   "file_extension": ".py",
   "mimetype": "text/x-python",
   "name": "python",
   "nbconvert_exporter": "python",
   "pygments_lexer": "ipython3",
   "version": "3.9.1"
  }
 },
 "nbformat": 4,
 "nbformat_minor": 5
}
